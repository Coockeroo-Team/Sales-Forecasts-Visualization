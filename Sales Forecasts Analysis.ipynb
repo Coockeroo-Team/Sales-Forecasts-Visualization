{
 "cells": [
  {
   "cell_type": "markdown",
   "metadata": {},
   "source": [
    "## Coockeroo "
   ]
  },
  {
   "cell_type": "markdown",
   "metadata": {},
   "source": [
    "## Sanjoy Biswas"
   ]
  },
  {
   "cell_type": "markdown",
   "metadata": {},
   "source": [
    "## Time Series / Forecasts: From the basic solution to the complex – daily and monthly- by store and by product\n",
    "\n"
   ]
  },
  {
   "cell_type": "markdown",
   "metadata": {},
   "source": [
    "\n",
    "* This notebook is one of several notebooks for a project to improve store forecasts\n",
    "1.\tEDA – Exploratory Data Analysis – includes working with annual forecasts\n",
    "2.\tMain Modelling\n",
    "3.\tXG Boost modelling by Month\n",
    "4.\tWeighted average\n",
    "5.\tARIMA – Month and Other Modelling\n",
    "6.\tDeep Learning"
   ]
  },
  {
   "cell_type": "code",
   "execution_count": 1,
   "metadata": {},
   "outputs": [],
   "source": [
    "import pandas as pd\n",
    "import numpy as np\n",
    "import matplotlib.pyplot as plt\n",
    "from datetime import datetime\n",
    "import seaborn as sns"
   ]
  },
  {
   "cell_type": "code",
   "execution_count": 2,
   "metadata": {},
   "outputs": [],
   "source": [
    "df = pd.read_csv(r\"E:\\Coockeroo\\Sales Data Visualization\\Data\\train.csv\")"
   ]
  },
  {
   "cell_type": "code",
   "execution_count": 3,
   "metadata": {},
   "outputs": [
    {
     "data": {
      "text/html": [
       "<div>\n",
       "<style scoped>\n",
       "    .dataframe tbody tr th:only-of-type {\n",
       "        vertical-align: middle;\n",
       "    }\n",
       "\n",
       "    .dataframe tbody tr th {\n",
       "        vertical-align: top;\n",
       "    }\n",
       "\n",
       "    .dataframe thead th {\n",
       "        text-align: right;\n",
       "    }\n",
       "</style>\n",
       "<table border=\"1\" class=\"dataframe\">\n",
       "  <thead>\n",
       "    <tr style=\"text-align: right;\">\n",
       "      <th></th>\n",
       "      <th>date</th>\n",
       "      <th>store</th>\n",
       "      <th>item</th>\n",
       "      <th>sales</th>\n",
       "    </tr>\n",
       "  </thead>\n",
       "  <tbody>\n",
       "    <tr>\n",
       "      <td>0</td>\n",
       "      <td>2013-01-01</td>\n",
       "      <td>1</td>\n",
       "      <td>1</td>\n",
       "      <td>13</td>\n",
       "    </tr>\n",
       "    <tr>\n",
       "      <td>1</td>\n",
       "      <td>2013-01-02</td>\n",
       "      <td>1</td>\n",
       "      <td>1</td>\n",
       "      <td>11</td>\n",
       "    </tr>\n",
       "    <tr>\n",
       "      <td>2</td>\n",
       "      <td>2013-01-03</td>\n",
       "      <td>1</td>\n",
       "      <td>1</td>\n",
       "      <td>14</td>\n",
       "    </tr>\n",
       "    <tr>\n",
       "      <td>3</td>\n",
       "      <td>2013-01-04</td>\n",
       "      <td>1</td>\n",
       "      <td>1</td>\n",
       "      <td>13</td>\n",
       "    </tr>\n",
       "    <tr>\n",
       "      <td>4</td>\n",
       "      <td>2013-01-05</td>\n",
       "      <td>1</td>\n",
       "      <td>1</td>\n",
       "      <td>10</td>\n",
       "    </tr>\n",
       "  </tbody>\n",
       "</table>\n",
       "</div>"
      ],
      "text/plain": [
       "         date  store  item  sales\n",
       "0  2013-01-01      1     1     13\n",
       "1  2013-01-02      1     1     11\n",
       "2  2013-01-03      1     1     14\n",
       "3  2013-01-04      1     1     13\n",
       "4  2013-01-05      1     1     10"
      ]
     },
     "execution_count": 3,
     "metadata": {},
     "output_type": "execute_result"
    }
   ],
   "source": [
    "#df = pd.read_csv(r'C:/Users/alexd/Alex Folder 1/Capstone - Store Forecast/train.csv')  \n",
    "df.head()"
   ]
  },
  {
   "cell_type": "code",
   "execution_count": 4,
   "metadata": {},
   "outputs": [
    {
     "data": {
      "text/plain": [
       "(913000, 4)"
      ]
     },
     "execution_count": 4,
     "metadata": {},
     "output_type": "execute_result"
    }
   ],
   "source": [
    "df.shape"
   ]
  },
  {
   "cell_type": "markdown",
   "metadata": {},
   "source": [
    "# EDA"
   ]
  },
  {
   "cell_type": "code",
   "execution_count": 5,
   "metadata": {},
   "outputs": [
    {
     "data": {
      "text/plain": [
       "(913000, 4)"
      ]
     },
     "execution_count": 5,
     "metadata": {},
     "output_type": "execute_result"
    }
   ],
   "source": [
    "df.shape"
   ]
  },
  {
   "cell_type": "code",
   "execution_count": 6,
   "metadata": {},
   "outputs": [
    {
     "data": {
      "text/plain": [
       "date     1826\n",
       "store      10\n",
       "item       50\n",
       "sales     213\n",
       "dtype: int64"
      ]
     },
     "execution_count": 6,
     "metadata": {},
     "output_type": "execute_result"
    }
   ],
   "source": [
    "df.nunique()"
   ]
  },
  {
   "cell_type": "code",
   "execution_count": 7,
   "metadata": {},
   "outputs": [
    {
     "data": {
      "text/plain": [
       "47704512"
      ]
     },
     "execution_count": 7,
     "metadata": {},
     "output_type": "execute_result"
    }
   ],
   "source": [
    "df['sales'].sum()"
   ]
  },
  {
   "cell_type": "markdown",
   "metadata": {},
   "source": [
    "# Other Data Files - That were not used"
   ]
  },
  {
   "cell_type": "code",
   "execution_count": 8,
   "metadata": {},
   "outputs": [
    {
     "data": {
      "text/plain": [
       "date     2017-12-31\n",
       "store            10\n",
       "item             50\n",
       "sales           231\n",
       "dtype: object"
      ]
     },
     "execution_count": 8,
     "metadata": {},
     "output_type": "execute_result"
    }
   ],
   "source": [
    "df.max()"
   ]
  },
  {
   "cell_type": "markdown",
   "metadata": {},
   "source": [
    "# Manipulation"
   ]
  },
  {
   "cell_type": "code",
   "execution_count": 9,
   "metadata": {},
   "outputs": [],
   "source": [
    "df['date'] =  pd.to_datetime(df['date'])"
   ]
  },
  {
   "cell_type": "code",
   "execution_count": 10,
   "metadata": {},
   "outputs": [],
   "source": [
    "df = df.set_index('date')"
   ]
  },
  {
   "cell_type": "code",
   "execution_count": 11,
   "metadata": {},
   "outputs": [
    {
     "data": {
      "text/html": [
       "<div>\n",
       "<style scoped>\n",
       "    .dataframe tbody tr th:only-of-type {\n",
       "        vertical-align: middle;\n",
       "    }\n",
       "\n",
       "    .dataframe tbody tr th {\n",
       "        vertical-align: top;\n",
       "    }\n",
       "\n",
       "    .dataframe thead th {\n",
       "        text-align: right;\n",
       "    }\n",
       "</style>\n",
       "<table border=\"1\" class=\"dataframe\">\n",
       "  <thead>\n",
       "    <tr style=\"text-align: right;\">\n",
       "      <th></th>\n",
       "      <th>store</th>\n",
       "      <th>item</th>\n",
       "      <th>sales</th>\n",
       "    </tr>\n",
       "    <tr>\n",
       "      <th>date</th>\n",
       "      <th></th>\n",
       "      <th></th>\n",
       "      <th></th>\n",
       "    </tr>\n",
       "  </thead>\n",
       "  <tbody>\n",
       "    <tr>\n",
       "      <td>2013-01-01</td>\n",
       "      <td>1</td>\n",
       "      <td>1</td>\n",
       "      <td>13</td>\n",
       "    </tr>\n",
       "    <tr>\n",
       "      <td>2013-01-02</td>\n",
       "      <td>1</td>\n",
       "      <td>1</td>\n",
       "      <td>11</td>\n",
       "    </tr>\n",
       "    <tr>\n",
       "      <td>2013-01-03</td>\n",
       "      <td>1</td>\n",
       "      <td>1</td>\n",
       "      <td>14</td>\n",
       "    </tr>\n",
       "    <tr>\n",
       "      <td>2013-01-04</td>\n",
       "      <td>1</td>\n",
       "      <td>1</td>\n",
       "      <td>13</td>\n",
       "    </tr>\n",
       "    <tr>\n",
       "      <td>2013-01-05</td>\n",
       "      <td>1</td>\n",
       "      <td>1</td>\n",
       "      <td>10</td>\n",
       "    </tr>\n",
       "  </tbody>\n",
       "</table>\n",
       "</div>"
      ],
      "text/plain": [
       "            store  item  sales\n",
       "date                          \n",
       "2013-01-01      1     1     13\n",
       "2013-01-02      1     1     11\n",
       "2013-01-03      1     1     14\n",
       "2013-01-04      1     1     13\n",
       "2013-01-05      1     1     10"
      ]
     },
     "execution_count": 11,
     "metadata": {},
     "output_type": "execute_result"
    }
   ],
   "source": [
    "df.head()"
   ]
  },
  {
   "cell_type": "code",
   "execution_count": 12,
   "metadata": {},
   "outputs": [],
   "source": [
    "df_sales_only = df.drop(['store','item'], axis = 1)"
   ]
  },
  {
   "cell_type": "code",
   "execution_count": 13,
   "metadata": {},
   "outputs": [],
   "source": [
    "df['day'] = df.index.day\n",
    "df['month'] = df.index.month\n",
    "df['year'] = df.index.year\n",
    "df['dayofweek'] = df.index.dayofweek\n"
   ]
  },
  {
   "cell_type": "code",
   "execution_count": 14,
   "metadata": {},
   "outputs": [
    {
     "name": "stdout",
     "output_type": "stream",
     "text": [
      "            store  item  sales  day  month  year  dayofweek\n",
      "date                                                       \n",
      "2013-01-01      1     1     13    1      1  2013          1\n",
      "2013-01-02      1     1     11    2      1  2013          2\n",
      "2013-01-03      1     1     14    3      1  2013          3\n",
      "2013-01-04      1     1     13    4      1  2013          4\n",
      "2013-01-05      1     1     10    5      1  2013          5\n",
      "...           ...   ...    ...  ...    ...   ...        ...\n",
      "2017-12-27     10    50     63   27     12  2017          2\n",
      "2017-12-28     10    50     59   28     12  2017          3\n",
      "2017-12-29     10    50     74   29     12  2017          4\n",
      "2017-12-30     10    50     62   30     12  2017          5\n",
      "2017-12-31     10    50     82   31     12  2017          6\n",
      "\n",
      "[913000 rows x 7 columns]\n"
     ]
    }
   ],
   "source": [
    "print(df)"
   ]
  },
  {
   "cell_type": "code",
   "execution_count": 15,
   "metadata": {},
   "outputs": [
    {
     "data": {
      "text/plain": [
       "<matplotlib.axes._subplots.AxesSubplot at 0x21523addc08>"
      ]
     },
     "execution_count": 15,
     "metadata": {},
     "output_type": "execute_result"
    },
    {
     "data": {
      "image/png": "[encoded data removed]",
      "text/plain": [
       "<Figure size 432x288 with 1 Axes>"
      ]
     },
     "metadata": {
      "needs_background": "light"
     },
     "output_type": "display_data"
    }
   ],
   "source": [
    "sns.boxplot(x=\"dayofweek\", y=\"sales\", data=df)"
   ]
  },
  {
   "cell_type": "markdown",
   "metadata": {},
   "source": [
    "# Working With individual products and individual stores"
   ]
  },
  {
   "cell_type": "code",
   "execution_count": 16,
   "metadata": {},
   "outputs": [
    {
     "data": {
      "text/plain": [
       "store  item\n",
       "1      1       1826\n",
       "       2       1826\n",
       "       3       1826\n",
       "       4       1826\n",
       "       5       1826\n",
       "               ... \n",
       "10     46      1826\n",
       "       47      1826\n",
       "       48      1826\n",
       "       49      1826\n",
       "       50      1826\n",
       "Length: 500, dtype: int64"
      ]
     },
     "execution_count": 16,
     "metadata": {},
     "output_type": "execute_result"
    }
   ],
   "source": [
    "df.groupby(['store','item']).size()"
   ]
  },
  {
   "cell_type": "code",
   "execution_count": 17,
   "metadata": {},
   "outputs": [
    {
     "data": {
      "text/html": [
       "<div>\n",
       "<style scoped>\n",
       "    .dataframe tbody tr th:only-of-type {\n",
       "        vertical-align: middle;\n",
       "    }\n",
       "\n",
       "    .dataframe tbody tr th {\n",
       "        vertical-align: top;\n",
       "    }\n",
       "\n",
       "    .dataframe thead th {\n",
       "        text-align: right;\n",
       "    }\n",
       "</style>\n",
       "<table border=\"1\" class=\"dataframe\">\n",
       "  <thead>\n",
       "    <tr style=\"text-align: right;\">\n",
       "      <th></th>\n",
       "      <th>store</th>\n",
       "      <th>item</th>\n",
       "      <th>sales</th>\n",
       "      <th>day</th>\n",
       "      <th>month</th>\n",
       "      <th>year</th>\n",
       "      <th>dayofweek</th>\n",
       "    </tr>\n",
       "    <tr>\n",
       "      <th>date</th>\n",
       "      <th></th>\n",
       "      <th></th>\n",
       "      <th></th>\n",
       "      <th></th>\n",
       "      <th></th>\n",
       "      <th></th>\n",
       "      <th></th>\n",
       "    </tr>\n",
       "  </thead>\n",
       "  <tbody>\n",
       "    <tr>\n",
       "      <td>2013-01-01</td>\n",
       "      <td>1</td>\n",
       "      <td>1</td>\n",
       "      <td>13</td>\n",
       "      <td>1</td>\n",
       "      <td>1</td>\n",
       "      <td>2013</td>\n",
       "      <td>1</td>\n",
       "    </tr>\n",
       "    <tr>\n",
       "      <td>2013-01-02</td>\n",
       "      <td>1</td>\n",
       "      <td>1</td>\n",
       "      <td>11</td>\n",
       "      <td>2</td>\n",
       "      <td>1</td>\n",
       "      <td>2013</td>\n",
       "      <td>2</td>\n",
       "    </tr>\n",
       "    <tr>\n",
       "      <td>2013-01-03</td>\n",
       "      <td>1</td>\n",
       "      <td>1</td>\n",
       "      <td>14</td>\n",
       "      <td>3</td>\n",
       "      <td>1</td>\n",
       "      <td>2013</td>\n",
       "      <td>3</td>\n",
       "    </tr>\n",
       "    <tr>\n",
       "      <td>2013-01-04</td>\n",
       "      <td>1</td>\n",
       "      <td>1</td>\n",
       "      <td>13</td>\n",
       "      <td>4</td>\n",
       "      <td>1</td>\n",
       "      <td>2013</td>\n",
       "      <td>4</td>\n",
       "    </tr>\n",
       "    <tr>\n",
       "      <td>2013-01-05</td>\n",
       "      <td>1</td>\n",
       "      <td>1</td>\n",
       "      <td>10</td>\n",
       "      <td>5</td>\n",
       "      <td>1</td>\n",
       "      <td>2013</td>\n",
       "      <td>5</td>\n",
       "    </tr>\n",
       "    <tr>\n",
       "      <td>...</td>\n",
       "      <td>...</td>\n",
       "      <td>...</td>\n",
       "      <td>...</td>\n",
       "      <td>...</td>\n",
       "      <td>...</td>\n",
       "      <td>...</td>\n",
       "      <td>...</td>\n",
       "    </tr>\n",
       "    <tr>\n",
       "      <td>2017-12-27</td>\n",
       "      <td>1</td>\n",
       "      <td>1</td>\n",
       "      <td>14</td>\n",
       "      <td>27</td>\n",
       "      <td>12</td>\n",
       "      <td>2017</td>\n",
       "      <td>2</td>\n",
       "    </tr>\n",
       "    <tr>\n",
       "      <td>2017-12-28</td>\n",
       "      <td>1</td>\n",
       "      <td>1</td>\n",
       "      <td>19</td>\n",
       "      <td>28</td>\n",
       "      <td>12</td>\n",
       "      <td>2017</td>\n",
       "      <td>3</td>\n",
       "    </tr>\n",
       "    <tr>\n",
       "      <td>2017-12-29</td>\n",
       "      <td>1</td>\n",
       "      <td>1</td>\n",
       "      <td>15</td>\n",
       "      <td>29</td>\n",
       "      <td>12</td>\n",
       "      <td>2017</td>\n",
       "      <td>4</td>\n",
       "    </tr>\n",
       "    <tr>\n",
       "      <td>2017-12-30</td>\n",
       "      <td>1</td>\n",
       "      <td>1</td>\n",
       "      <td>27</td>\n",
       "      <td>30</td>\n",
       "      <td>12</td>\n",
       "      <td>2017</td>\n",
       "      <td>5</td>\n",
       "    </tr>\n",
       "    <tr>\n",
       "      <td>2017-12-31</td>\n",
       "      <td>1</td>\n",
       "      <td>1</td>\n",
       "      <td>23</td>\n",
       "      <td>31</td>\n",
       "      <td>12</td>\n",
       "      <td>2017</td>\n",
       "      <td>6</td>\n",
       "    </tr>\n",
       "  </tbody>\n",
       "</table>\n",
       "<p>1826 rows × 7 columns</p>\n",
       "</div>"
      ],
      "text/plain": [
       "            store  item  sales  day  month  year  dayofweek\n",
       "date                                                       \n",
       "2013-01-01      1     1     13    1      1  2013          1\n",
       "2013-01-02      1     1     11    2      1  2013          2\n",
       "2013-01-03      1     1     14    3      1  2013          3\n",
       "2013-01-04      1     1     13    4      1  2013          4\n",
       "2013-01-05      1     1     10    5      1  2013          5\n",
       "...           ...   ...    ...  ...    ...   ...        ...\n",
       "2017-12-27      1     1     14   27     12  2017          2\n",
       "2017-12-28      1     1     19   28     12  2017          3\n",
       "2017-12-29      1     1     15   29     12  2017          4\n",
       "2017-12-30      1     1     27   30     12  2017          5\n",
       "2017-12-31      1     1     23   31     12  2017          6\n",
       "\n",
       "[1826 rows x 7 columns]"
      ]
     },
     "execution_count": 17,
     "metadata": {},
     "output_type": "execute_result"
    }
   ],
   "source": [
    "df[(df.store==1) & (df.item==1)]"
   ]
  },
  {
   "cell_type": "code",
   "execution_count": 18,
   "metadata": {},
   "outputs": [
    {
     "data": {
      "text/plain": [
       "<matplotlib.axes._subplots.AxesSubplot at 0x21523c6df08>"
      ]
     },
     "execution_count": 18,
     "metadata": {},
     "output_type": "execute_result"
    },
    {
     "data": {
      "image/png": "[encoded data removed]",
      "text/plain": [
       "<Figure size 432x288 with 1 Axes>"
      ]
     },
     "metadata": {
      "needs_background": "light"
     },
     "output_type": "display_data"
    }
   ],
   "source": [
    "df[(df.store==1) & (df.item==1)]['sales'].plot()"
   ]
  },
  {
   "cell_type": "code",
   "execution_count": 19,
   "metadata": {},
   "outputs": [
    {
     "data": {
      "text/plain": [
       "date\n",
       "2013-01-01    13\n",
       "2013-01-02    11\n",
       "2013-01-03    14\n",
       "2013-01-04    13\n",
       "2013-01-05    10\n",
       "              ..\n",
       "2017-12-27    14\n",
       "2017-12-28    19\n",
       "2017-12-29    15\n",
       "2017-12-30    27\n",
       "2017-12-31    23\n",
       "Name: sales, Length: 1826, dtype: int64"
      ]
     },
     "execution_count": 19,
     "metadata": {},
     "output_type": "execute_result"
    }
   ],
   "source": [
    "df[(df.store==1) & (df.item==1)]['sales']"
   ]
  },
  {
   "cell_type": "code",
   "execution_count": 20,
   "metadata": {},
   "outputs": [],
   "source": [
    "df_1_1 = df[(df.store==1) & (df.item==1)]['sales']\n",
    "split = \"2017-01-01\""
   ]
  },
  {
   "cell_type": "code",
   "execution_count": 21,
   "metadata": {},
   "outputs": [],
   "source": [
    "df_i1_s1 = df[(df.store==1) & (df.item==1)]['sales']\n",
    "df_i1_s2 = df[(df.store==2) & (df.item==1)]['sales']\n",
    "df_i2_s1 = df[(df.store==1) & (df.item==2)]['sales']\n",
    "df_i2_s2 = df[(df.store==2) & (df.item==2)]['sales']"
   ]
  },
  {
   "cell_type": "code",
   "execution_count": 22,
   "metadata": {},
   "outputs": [
    {
     "data": {
      "text/plain": [
       "<matplotlib.axes._subplots.AxesSubplot at 0x21523dbbc48>"
      ]
     },
     "execution_count": 22,
     "metadata": {},
     "output_type": "execute_result"
    },
    {
     "data": {
      "image/png": "[encoded data removed]",
      "text/plain": [
       "<Figure size 432x288 with 1 Axes>"
      ]
     },
     "metadata": {
      "needs_background": "light"
     },
     "output_type": "display_data"
    }
   ],
   "source": [
    "df['sales'].resample('W').sum().plot()"
   ]
  },
  {
   "cell_type": "code",
   "execution_count": 23,
   "metadata": {},
   "outputs": [
    {
     "data": {
      "text/plain": [
       "<matplotlib.axes._subplots.AxesSubplot at 0x21523e5d808>"
      ]
     },
     "execution_count": 23,
     "metadata": {},
     "output_type": "execute_result"
    },
    {
     "data": {
      "image/png": "[encoded data removed]",
      "text/plain": [
       "<Figure size 432x288 with 1 Axes>"
      ]
     },
     "metadata": {
      "needs_background": "light"
     },
     "output_type": "display_data"
    }
   ],
   "source": [
    "df['sales'].resample('M').sum().plot()"
   ]
  },
  {
   "cell_type": "code",
   "execution_count": 24,
   "metadata": {},
   "outputs": [
    {
     "data": {
      "text/html": [
       "<div>\n",
       "<style scoped>\n",
       "    .dataframe tbody tr th:only-of-type {\n",
       "        vertical-align: middle;\n",
       "    }\n",
       "\n",
       "    .dataframe tbody tr th {\n",
       "        vertical-align: top;\n",
       "    }\n",
       "\n",
       "    .dataframe thead th {\n",
       "        text-align: right;\n",
       "    }\n",
       "</style>\n",
       "<table border=\"1\" class=\"dataframe\">\n",
       "  <thead>\n",
       "    <tr style=\"text-align: right;\">\n",
       "      <th></th>\n",
       "      <th>sales</th>\n",
       "    </tr>\n",
       "    <tr>\n",
       "      <th>date</th>\n",
       "      <th></th>\n",
       "    </tr>\n",
       "  </thead>\n",
       "  <tbody>\n",
       "    <tr>\n",
       "      <td>2013-01-01</td>\n",
       "      <td>33</td>\n",
       "    </tr>\n",
       "    <tr>\n",
       "      <td>2013-01-02</td>\n",
       "      <td>43</td>\n",
       "    </tr>\n",
       "    <tr>\n",
       "      <td>2013-01-03</td>\n",
       "      <td>23</td>\n",
       "    </tr>\n",
       "    <tr>\n",
       "      <td>2013-01-04</td>\n",
       "      <td>18</td>\n",
       "    </tr>\n",
       "    <tr>\n",
       "      <td>2013-01-05</td>\n",
       "      <td>34</td>\n",
       "    </tr>\n",
       "    <tr>\n",
       "      <td>...</td>\n",
       "      <td>...</td>\n",
       "    </tr>\n",
       "    <tr>\n",
       "      <td>2017-12-27</td>\n",
       "      <td>55</td>\n",
       "    </tr>\n",
       "    <tr>\n",
       "      <td>2017-12-28</td>\n",
       "      <td>50</td>\n",
       "    </tr>\n",
       "    <tr>\n",
       "      <td>2017-12-29</td>\n",
       "      <td>50</td>\n",
       "    </tr>\n",
       "    <tr>\n",
       "      <td>2017-12-30</td>\n",
       "      <td>56</td>\n",
       "    </tr>\n",
       "    <tr>\n",
       "      <td>2017-12-31</td>\n",
       "      <td>67</td>\n",
       "    </tr>\n",
       "  </tbody>\n",
       "</table>\n",
       "<p>1826 rows × 1 columns</p>\n",
       "</div>"
      ],
      "text/plain": [
       "            sales\n",
       "date             \n",
       "2013-01-01     33\n",
       "2013-01-02     43\n",
       "2013-01-03     23\n",
       "2013-01-04     18\n",
       "2013-01-05     34\n",
       "...           ...\n",
       "2017-12-27     55\n",
       "2017-12-28     50\n",
       "2017-12-29     50\n",
       "2017-12-30     56\n",
       "2017-12-31     67\n",
       "\n",
       "[1826 rows x 1 columns]"
      ]
     },
     "execution_count": 24,
     "metadata": {},
     "output_type": "execute_result"
    }
   ],
   "source": [
    "df_i1_s1.to_frame()\n",
    "df_i1_s2.to_frame()\n",
    "df_i2_s1.to_frame()\n",
    "df_i2_s1.to_frame()"
   ]
  },
  {
   "cell_type": "code",
   "execution_count": 25,
   "metadata": {},
   "outputs": [],
   "source": [
    "split1 = \"2013-12-31\""
   ]
  },
  {
   "cell_type": "code",
   "execution_count": 26,
   "metadata": {},
   "outputs": [],
   "source": [
    "df_i1_s1_a = df_i1_s1[:split1] \n",
    "df_i1_s2_a = df_i1_s2[:split1] \n",
    "df_i2_s1_a = df_i2_s1[:split1] \n",
    "df_i2_s2_a = df_i2_s2[:split1] \n"
   ]
  },
  {
   "cell_type": "code",
   "execution_count": 27,
   "metadata": {},
   "outputs": [
    {
     "data": {
      "text/plain": [
       "<matplotlib.axes._subplots.AxesSubplot at 0x21523f839c8>"
      ]
     },
     "execution_count": 27,
     "metadata": {},
     "output_type": "execute_result"
    },
    {
     "data": {
      "image/png": "[encoded data removed]",
      "text/plain": [
       "<Figure size 432x288 with 1 Axes>"
      ]
     },
     "metadata": {
      "needs_background": "light"
     },
     "output_type": "display_data"
    }
   ],
   "source": [
    "df_i1_s1_a.resample('W').sum().plot()"
   ]
  },
  {
   "cell_type": "code",
   "execution_count": 28,
   "metadata": {},
   "outputs": [
    {
     "data": {
      "text/plain": [
       "date\n",
       "2013-01-01    12\n",
       "2013-01-02    16\n",
       "2013-01-03    16\n",
       "2013-01-04    20\n",
       "2013-01-05    16\n",
       "2013-01-06    18\n",
       "2013-01-07    12\n",
       "2013-01-08    11\n",
       "2013-01-09    16\n",
       "2013-01-10    10\n",
       "Name: sales, dtype: int64"
      ]
     },
     "execution_count": 28,
     "metadata": {},
     "output_type": "execute_result"
    }
   ],
   "source": [
    "df_i1_s2_a.head(10)"
   ]
  },
  {
   "cell_type": "code",
   "execution_count": 29,
   "metadata": {},
   "outputs": [
    {
     "data": {
      "text/plain": [
       "<matplotlib.axes._subplots.AxesSubplot at 0x215249bf848>"
      ]
     },
     "execution_count": 29,
     "metadata": {},
     "output_type": "execute_result"
    },
    {
     "data": {
      "image/png": "[encoded data removed]",
      "text/plain": [
       "<Figure size 432x288 with 1 Axes>"
      ]
     },
     "metadata": {
      "needs_background": "light"
     },
     "output_type": "display_data"
    }
   ],
   "source": [
    "df_i1_s2_a.resample('D').sum().plot()"
   ]
  },
  {
   "cell_type": "code",
   "execution_count": 30,
   "metadata": {},
   "outputs": [
    {
     "data": {
      "text/plain": [
       "date\n",
       "2013-01-01    33\n",
       "2013-01-02    43\n",
       "2013-01-03    23\n",
       "2013-01-04    18\n",
       "2013-01-05    34\n",
       "Name: sales, dtype: int64"
      ]
     },
     "execution_count": 30,
     "metadata": {},
     "output_type": "execute_result"
    }
   ],
   "source": [
    "df_i2_s1_a.head()"
   ]
  },
  {
   "cell_type": "code",
   "execution_count": 31,
   "metadata": {},
   "outputs": [
    {
     "data": {
      "text/plain": [
       "<matplotlib.axes._subplots.AxesSubplot at 0x2152537a448>"
      ]
     },
     "execution_count": 31,
     "metadata": {},
     "output_type": "execute_result"
    },
    {
     "data": {
      "image/png": "[encoded data removed]",
      "text/plain": [
       "<Figure size 432x288 with 1 Axes>"
      ]
     },
     "metadata": {
      "needs_background": "light"
     },
     "output_type": "display_data"
    }
   ],
   "source": [
    "df_i2_s2_a.resample('W').sum().plot()"
   ]
  },
  {
   "cell_type": "code",
   "execution_count": 32,
   "metadata": {},
   "outputs": [
    {
     "data": {
      "text/plain": [
       "<matplotlib.axes._subplots.AxesSubplot at 0x2152546bcc8>"
      ]
     },
     "execution_count": 32,
     "metadata": {},
     "output_type": "execute_result"
    },
    {
     "data": {
      "image/png": "[encoded data removed]",
      "text/plain": [
       "<Figure size 432x288 with 1 Axes>"
      ]
     },
     "metadata": {
      "needs_background": "light"
     },
     "output_type": "display_data"
    }
   ],
   "source": [
    "df_i2_s1_a.resample('W').sum().plot()"
   ]
  },
  {
   "cell_type": "code",
   "execution_count": 33,
   "metadata": {},
   "outputs": [
    {
     "data": {
      "text/html": [
       "<div>\n",
       "<style scoped>\n",
       "    .dataframe tbody tr th:only-of-type {\n",
       "        vertical-align: middle;\n",
       "    }\n",
       "\n",
       "    .dataframe tbody tr th {\n",
       "        vertical-align: top;\n",
       "    }\n",
       "\n",
       "    .dataframe thead th {\n",
       "        text-align: right;\n",
       "    }\n",
       "</style>\n",
       "<table border=\"1\" class=\"dataframe\">\n",
       "  <thead>\n",
       "    <tr style=\"text-align: right;\">\n",
       "      <th></th>\n",
       "      <th>sales</th>\n",
       "    </tr>\n",
       "    <tr>\n",
       "      <th>date</th>\n",
       "      <th></th>\n",
       "    </tr>\n",
       "  </thead>\n",
       "  <tbody>\n",
       "    <tr>\n",
       "      <td>2013-01-01</td>\n",
       "      <td>13</td>\n",
       "    </tr>\n",
       "    <tr>\n",
       "      <td>2013-01-02</td>\n",
       "      <td>11</td>\n",
       "    </tr>\n",
       "    <tr>\n",
       "      <td>2013-01-03</td>\n",
       "      <td>14</td>\n",
       "    </tr>\n",
       "    <tr>\n",
       "      <td>2013-01-04</td>\n",
       "      <td>13</td>\n",
       "    </tr>\n",
       "    <tr>\n",
       "      <td>2013-01-05</td>\n",
       "      <td>10</td>\n",
       "    </tr>\n",
       "    <tr>\n",
       "      <td>...</td>\n",
       "      <td>...</td>\n",
       "    </tr>\n",
       "    <tr>\n",
       "      <td>2017-12-27</td>\n",
       "      <td>14</td>\n",
       "    </tr>\n",
       "    <tr>\n",
       "      <td>2017-12-28</td>\n",
       "      <td>19</td>\n",
       "    </tr>\n",
       "    <tr>\n",
       "      <td>2017-12-29</td>\n",
       "      <td>15</td>\n",
       "    </tr>\n",
       "    <tr>\n",
       "      <td>2017-12-30</td>\n",
       "      <td>27</td>\n",
       "    </tr>\n",
       "    <tr>\n",
       "      <td>2017-12-31</td>\n",
       "      <td>23</td>\n",
       "    </tr>\n",
       "  </tbody>\n",
       "</table>\n",
       "<p>1826 rows × 1 columns</p>\n",
       "</div>"
      ],
      "text/plain": [
       "            sales\n",
       "date             \n",
       "2013-01-01     13\n",
       "2013-01-02     11\n",
       "2013-01-03     14\n",
       "2013-01-04     13\n",
       "2013-01-05     10\n",
       "...           ...\n",
       "2017-12-27     14\n",
       "2017-12-28     19\n",
       "2017-12-29     15\n",
       "2017-12-30     27\n",
       "2017-12-31     23\n",
       "\n",
       "[1826 rows x 1 columns]"
      ]
     },
     "execution_count": 33,
     "metadata": {},
     "output_type": "execute_result"
    }
   ],
   "source": [
    "df_1_1.to_frame()"
   ]
  },
  {
   "cell_type": "code",
   "execution_count": 34,
   "metadata": {},
   "outputs": [],
   "source": [
    "df_1_1 = df_1_1.to_frame()"
   ]
  },
  {
   "cell_type": "code",
   "execution_count": 35,
   "metadata": {},
   "outputs": [],
   "source": [
    "df_xg_1_1= df_1_1.copy()  # it was here"
   ]
  },
  {
   "cell_type": "code",
   "execution_count": 36,
   "metadata": {},
   "outputs": [
    {
     "data": {
      "text/html": [
       "<div>\n",
       "<style scoped>\n",
       "    .dataframe tbody tr th:only-of-type {\n",
       "        vertical-align: middle;\n",
       "    }\n",
       "\n",
       "    .dataframe tbody tr th {\n",
       "        vertical-align: top;\n",
       "    }\n",
       "\n",
       "    .dataframe thead th {\n",
       "        text-align: right;\n",
       "    }\n",
       "</style>\n",
       "<table border=\"1\" class=\"dataframe\">\n",
       "  <thead>\n",
       "    <tr style=\"text-align: right;\">\n",
       "      <th></th>\n",
       "      <th>sales</th>\n",
       "    </tr>\n",
       "    <tr>\n",
       "      <th>date</th>\n",
       "      <th></th>\n",
       "    </tr>\n",
       "  </thead>\n",
       "  <tbody>\n",
       "    <tr>\n",
       "      <td>2013-01-01</td>\n",
       "      <td>13</td>\n",
       "    </tr>\n",
       "    <tr>\n",
       "      <td>2013-01-02</td>\n",
       "      <td>11</td>\n",
       "    </tr>\n",
       "    <tr>\n",
       "      <td>2013-01-03</td>\n",
       "      <td>14</td>\n",
       "    </tr>\n",
       "    <tr>\n",
       "      <td>2013-01-04</td>\n",
       "      <td>13</td>\n",
       "    </tr>\n",
       "    <tr>\n",
       "      <td>2013-01-05</td>\n",
       "      <td>10</td>\n",
       "    </tr>\n",
       "  </tbody>\n",
       "</table>\n",
       "</div>"
      ],
      "text/plain": [
       "            sales\n",
       "date             \n",
       "2013-01-01     13\n",
       "2013-01-02     11\n",
       "2013-01-03     14\n",
       "2013-01-04     13\n",
       "2013-01-05     10"
      ]
     },
     "execution_count": 36,
     "metadata": {},
     "output_type": "execute_result"
    }
   ],
   "source": [
    "df_1_1.head()"
   ]
  },
  {
   "cell_type": "markdown",
   "metadata": {},
   "source": [
    "# Exploring Shifting"
   ]
  },
  {
   "cell_type": "code",
   "execution_count": 37,
   "metadata": {},
   "outputs": [],
   "source": [
    "df_1_1['sales-1'] = df_1_1['sales'].shift(1)"
   ]
  },
  {
   "cell_type": "code",
   "execution_count": 38,
   "metadata": {},
   "outputs": [],
   "source": [
    "df_1_1['sales+2'] = df_1_1['sales'].shift(-2)"
   ]
  },
  {
   "cell_type": "code",
   "execution_count": 39,
   "metadata": {},
   "outputs": [
    {
     "data": {
      "text/html": [
       "<div>\n",
       "<style scoped>\n",
       "    .dataframe tbody tr th:only-of-type {\n",
       "        vertical-align: middle;\n",
       "    }\n",
       "\n",
       "    .dataframe tbody tr th {\n",
       "        vertical-align: top;\n",
       "    }\n",
       "\n",
       "    .dataframe thead th {\n",
       "        text-align: right;\n",
       "    }\n",
       "</style>\n",
       "<table border=\"1\" class=\"dataframe\">\n",
       "  <thead>\n",
       "    <tr style=\"text-align: right;\">\n",
       "      <th></th>\n",
       "      <th>sales</th>\n",
       "      <th>sales-1</th>\n",
       "      <th>sales+2</th>\n",
       "    </tr>\n",
       "    <tr>\n",
       "      <th>date</th>\n",
       "      <th></th>\n",
       "      <th></th>\n",
       "      <th></th>\n",
       "    </tr>\n",
       "  </thead>\n",
       "  <tbody>\n",
       "    <tr>\n",
       "      <td>2013-01-01</td>\n",
       "      <td>13</td>\n",
       "      <td>NaN</td>\n",
       "      <td>14.0</td>\n",
       "    </tr>\n",
       "    <tr>\n",
       "      <td>2013-01-02</td>\n",
       "      <td>11</td>\n",
       "      <td>13.0</td>\n",
       "      <td>13.0</td>\n",
       "    </tr>\n",
       "    <tr>\n",
       "      <td>2013-01-03</td>\n",
       "      <td>14</td>\n",
       "      <td>11.0</td>\n",
       "      <td>10.0</td>\n",
       "    </tr>\n",
       "    <tr>\n",
       "      <td>2013-01-04</td>\n",
       "      <td>13</td>\n",
       "      <td>14.0</td>\n",
       "      <td>12.0</td>\n",
       "    </tr>\n",
       "    <tr>\n",
       "      <td>2013-01-05</td>\n",
       "      <td>10</td>\n",
       "      <td>13.0</td>\n",
       "      <td>10.0</td>\n",
       "    </tr>\n",
       "  </tbody>\n",
       "</table>\n",
       "</div>"
      ],
      "text/plain": [
       "            sales  sales-1  sales+2\n",
       "date                               \n",
       "2013-01-01     13      NaN     14.0\n",
       "2013-01-02     11     13.0     13.0\n",
       "2013-01-03     14     11.0     10.0\n",
       "2013-01-04     13     14.0     12.0\n",
       "2013-01-05     10     13.0     10.0"
      ]
     },
     "execution_count": 39,
     "metadata": {},
     "output_type": "execute_result"
    }
   ],
   "source": [
    "df_1_1.head()"
   ]
  },
  {
   "cell_type": "code",
   "execution_count": 40,
   "metadata": {},
   "outputs": [],
   "source": [
    "df_1_1['sales-2'] = df_1_1['sales'].shift(2)"
   ]
  },
  {
   "cell_type": "code",
   "execution_count": 41,
   "metadata": {},
   "outputs": [
    {
     "data": {
      "text/html": [
       "<div>\n",
       "<style scoped>\n",
       "    .dataframe tbody tr th:only-of-type {\n",
       "        vertical-align: middle;\n",
       "    }\n",
       "\n",
       "    .dataframe tbody tr th {\n",
       "        vertical-align: top;\n",
       "    }\n",
       "\n",
       "    .dataframe thead th {\n",
       "        text-align: right;\n",
       "    }\n",
       "</style>\n",
       "<table border=\"1\" class=\"dataframe\">\n",
       "  <thead>\n",
       "    <tr style=\"text-align: right;\">\n",
       "      <th></th>\n",
       "      <th>sales</th>\n",
       "      <th>sales-1</th>\n",
       "      <th>sales+2</th>\n",
       "      <th>sales-2</th>\n",
       "    </tr>\n",
       "    <tr>\n",
       "      <th>date</th>\n",
       "      <th></th>\n",
       "      <th></th>\n",
       "      <th></th>\n",
       "      <th></th>\n",
       "    </tr>\n",
       "  </thead>\n",
       "  <tbody>\n",
       "    <tr>\n",
       "      <td>2013-01-01</td>\n",
       "      <td>13</td>\n",
       "      <td>NaN</td>\n",
       "      <td>14.0</td>\n",
       "      <td>NaN</td>\n",
       "    </tr>\n",
       "    <tr>\n",
       "      <td>2013-01-02</td>\n",
       "      <td>11</td>\n",
       "      <td>13.0</td>\n",
       "      <td>13.0</td>\n",
       "      <td>NaN</td>\n",
       "    </tr>\n",
       "    <tr>\n",
       "      <td>2013-01-03</td>\n",
       "      <td>14</td>\n",
       "      <td>11.0</td>\n",
       "      <td>10.0</td>\n",
       "      <td>13.0</td>\n",
       "    </tr>\n",
       "    <tr>\n",
       "      <td>2013-01-04</td>\n",
       "      <td>13</td>\n",
       "      <td>14.0</td>\n",
       "      <td>12.0</td>\n",
       "      <td>11.0</td>\n",
       "    </tr>\n",
       "    <tr>\n",
       "      <td>2013-01-05</td>\n",
       "      <td>10</td>\n",
       "      <td>13.0</td>\n",
       "      <td>10.0</td>\n",
       "      <td>14.0</td>\n",
       "    </tr>\n",
       "  </tbody>\n",
       "</table>\n",
       "</div>"
      ],
      "text/plain": [
       "            sales  sales-1  sales+2  sales-2\n",
       "date                                        \n",
       "2013-01-01     13      NaN     14.0      NaN\n",
       "2013-01-02     11     13.0     13.0      NaN\n",
       "2013-01-03     14     11.0     10.0     13.0\n",
       "2013-01-04     13     14.0     12.0     11.0\n",
       "2013-01-05     10     13.0     10.0     14.0"
      ]
     },
     "execution_count": 41,
     "metadata": {},
     "output_type": "execute_result"
    }
   ],
   "source": [
    "df_1_1.head()"
   ]
  },
  {
   "cell_type": "code",
   "execution_count": 42,
   "metadata": {},
   "outputs": [],
   "source": [
    "df_1_1 = df_1_1.dropna()"
   ]
  },
  {
   "cell_type": "code",
   "execution_count": 43,
   "metadata": {},
   "outputs": [
    {
     "data": {
      "text/html": [
       "<div>\n",
       "<style scoped>\n",
       "    .dataframe tbody tr th:only-of-type {\n",
       "        vertical-align: middle;\n",
       "    }\n",
       "\n",
       "    .dataframe tbody tr th {\n",
       "        vertical-align: top;\n",
       "    }\n",
       "\n",
       "    .dataframe thead th {\n",
       "        text-align: right;\n",
       "    }\n",
       "</style>\n",
       "<table border=\"1\" class=\"dataframe\">\n",
       "  <thead>\n",
       "    <tr style=\"text-align: right;\">\n",
       "      <th></th>\n",
       "      <th>sales</th>\n",
       "      <th>sales-1</th>\n",
       "      <th>sales+2</th>\n",
       "      <th>sales-2</th>\n",
       "    </tr>\n",
       "    <tr>\n",
       "      <th>date</th>\n",
       "      <th></th>\n",
       "      <th></th>\n",
       "      <th></th>\n",
       "      <th></th>\n",
       "    </tr>\n",
       "  </thead>\n",
       "  <tbody>\n",
       "    <tr>\n",
       "      <td>2013-01-03</td>\n",
       "      <td>14</td>\n",
       "      <td>11.0</td>\n",
       "      <td>10.0</td>\n",
       "      <td>13.0</td>\n",
       "    </tr>\n",
       "    <tr>\n",
       "      <td>2013-01-04</td>\n",
       "      <td>13</td>\n",
       "      <td>14.0</td>\n",
       "      <td>12.0</td>\n",
       "      <td>11.0</td>\n",
       "    </tr>\n",
       "    <tr>\n",
       "      <td>2013-01-05</td>\n",
       "      <td>10</td>\n",
       "      <td>13.0</td>\n",
       "      <td>10.0</td>\n",
       "      <td>14.0</td>\n",
       "    </tr>\n",
       "    <tr>\n",
       "      <td>2013-01-06</td>\n",
       "      <td>12</td>\n",
       "      <td>10.0</td>\n",
       "      <td>9.0</td>\n",
       "      <td>13.0</td>\n",
       "    </tr>\n",
       "    <tr>\n",
       "      <td>2013-01-07</td>\n",
       "      <td>10</td>\n",
       "      <td>12.0</td>\n",
       "      <td>12.0</td>\n",
       "      <td>10.0</td>\n",
       "    </tr>\n",
       "  </tbody>\n",
       "</table>\n",
       "</div>"
      ],
      "text/plain": [
       "            sales  sales-1  sales+2  sales-2\n",
       "date                                        \n",
       "2013-01-03     14     11.0     10.0     13.0\n",
       "2013-01-04     13     14.0     12.0     11.0\n",
       "2013-01-05     10     13.0     10.0     14.0\n",
       "2013-01-06     12     10.0      9.0     13.0\n",
       "2013-01-07     10     12.0     12.0     10.0"
      ]
     },
     "execution_count": 43,
     "metadata": {},
     "output_type": "execute_result"
    }
   ],
   "source": [
    "df_1_1.head()"
   ]
  },
  {
   "cell_type": "code",
   "execution_count": 44,
   "metadata": {},
   "outputs": [
    {
     "data": {
      "text/html": [
       "<div>\n",
       "<style scoped>\n",
       "    .dataframe tbody tr th:only-of-type {\n",
       "        vertical-align: middle;\n",
       "    }\n",
       "\n",
       "    .dataframe tbody tr th {\n",
       "        vertical-align: top;\n",
       "    }\n",
       "\n",
       "    .dataframe thead th {\n",
       "        text-align: right;\n",
       "    }\n",
       "</style>\n",
       "<table border=\"1\" class=\"dataframe\">\n",
       "  <thead>\n",
       "    <tr style=\"text-align: right;\">\n",
       "      <th></th>\n",
       "      <th>sales</th>\n",
       "      <th>sales-1</th>\n",
       "      <th>sales+2</th>\n",
       "      <th>sales-2</th>\n",
       "    </tr>\n",
       "    <tr>\n",
       "      <th>date</th>\n",
       "      <th></th>\n",
       "      <th></th>\n",
       "      <th></th>\n",
       "      <th></th>\n",
       "    </tr>\n",
       "  </thead>\n",
       "  <tbody>\n",
       "    <tr>\n",
       "      <td>2017-12-25</td>\n",
       "      <td>13</td>\n",
       "      <td>19.0</td>\n",
       "      <td>14.0</td>\n",
       "      <td>18.0</td>\n",
       "    </tr>\n",
       "    <tr>\n",
       "      <td>2017-12-26</td>\n",
       "      <td>16</td>\n",
       "      <td>13.0</td>\n",
       "      <td>19.0</td>\n",
       "      <td>19.0</td>\n",
       "    </tr>\n",
       "    <tr>\n",
       "      <td>2017-12-27</td>\n",
       "      <td>14</td>\n",
       "      <td>16.0</td>\n",
       "      <td>15.0</td>\n",
       "      <td>13.0</td>\n",
       "    </tr>\n",
       "    <tr>\n",
       "      <td>2017-12-28</td>\n",
       "      <td>19</td>\n",
       "      <td>14.0</td>\n",
       "      <td>27.0</td>\n",
       "      <td>16.0</td>\n",
       "    </tr>\n",
       "    <tr>\n",
       "      <td>2017-12-29</td>\n",
       "      <td>15</td>\n",
       "      <td>19.0</td>\n",
       "      <td>23.0</td>\n",
       "      <td>14.0</td>\n",
       "    </tr>\n",
       "  </tbody>\n",
       "</table>\n",
       "</div>"
      ],
      "text/plain": [
       "            sales  sales-1  sales+2  sales-2\n",
       "date                                        \n",
       "2017-12-25     13     19.0     14.0     18.0\n",
       "2017-12-26     16     13.0     19.0     19.0\n",
       "2017-12-27     14     16.0     15.0     13.0\n",
       "2017-12-28     19     14.0     27.0     16.0\n",
       "2017-12-29     15     19.0     23.0     14.0"
      ]
     },
     "execution_count": 44,
     "metadata": {},
     "output_type": "execute_result"
    }
   ],
   "source": [
    "df_1_1.tail()"
   ]
  },
  {
   "cell_type": "code",
   "execution_count": 45,
   "metadata": {},
   "outputs": [],
   "source": [
    "df_1_1['sales+1'] = df_1_1['sales'].shift(-1)"
   ]
  },
  {
   "cell_type": "code",
   "execution_count": 46,
   "metadata": {},
   "outputs": [
    {
     "data": {
      "text/html": [
       "<div>\n",
       "<style scoped>\n",
       "    .dataframe tbody tr th:only-of-type {\n",
       "        vertical-align: middle;\n",
       "    }\n",
       "\n",
       "    .dataframe tbody tr th {\n",
       "        vertical-align: top;\n",
       "    }\n",
       "\n",
       "    .dataframe thead th {\n",
       "        text-align: right;\n",
       "    }\n",
       "</style>\n",
       "<table border=\"1\" class=\"dataframe\">\n",
       "  <thead>\n",
       "    <tr style=\"text-align: right;\">\n",
       "      <th></th>\n",
       "      <th>sales</th>\n",
       "      <th>sales-1</th>\n",
       "      <th>sales+2</th>\n",
       "      <th>sales-2</th>\n",
       "      <th>sales+1</th>\n",
       "    </tr>\n",
       "    <tr>\n",
       "      <th>date</th>\n",
       "      <th></th>\n",
       "      <th></th>\n",
       "      <th></th>\n",
       "      <th></th>\n",
       "      <th></th>\n",
       "    </tr>\n",
       "  </thead>\n",
       "  <tbody>\n",
       "    <tr>\n",
       "      <td>2013-01-03</td>\n",
       "      <td>14</td>\n",
       "      <td>11.0</td>\n",
       "      <td>10.0</td>\n",
       "      <td>13.0</td>\n",
       "      <td>13.0</td>\n",
       "    </tr>\n",
       "    <tr>\n",
       "      <td>2013-01-04</td>\n",
       "      <td>13</td>\n",
       "      <td>14.0</td>\n",
       "      <td>12.0</td>\n",
       "      <td>11.0</td>\n",
       "      <td>10.0</td>\n",
       "    </tr>\n",
       "    <tr>\n",
       "      <td>2013-01-05</td>\n",
       "      <td>10</td>\n",
       "      <td>13.0</td>\n",
       "      <td>10.0</td>\n",
       "      <td>14.0</td>\n",
       "      <td>12.0</td>\n",
       "    </tr>\n",
       "    <tr>\n",
       "      <td>2013-01-06</td>\n",
       "      <td>12</td>\n",
       "      <td>10.0</td>\n",
       "      <td>9.0</td>\n",
       "      <td>13.0</td>\n",
       "      <td>10.0</td>\n",
       "    </tr>\n",
       "    <tr>\n",
       "      <td>2013-01-07</td>\n",
       "      <td>10</td>\n",
       "      <td>12.0</td>\n",
       "      <td>12.0</td>\n",
       "      <td>10.0</td>\n",
       "      <td>9.0</td>\n",
       "    </tr>\n",
       "  </tbody>\n",
       "</table>\n",
       "</div>"
      ],
      "text/plain": [
       "            sales  sales-1  sales+2  sales-2  sales+1\n",
       "date                                                 \n",
       "2013-01-03     14     11.0     10.0     13.0     13.0\n",
       "2013-01-04     13     14.0     12.0     11.0     10.0\n",
       "2013-01-05     10     13.0     10.0     14.0     12.0\n",
       "2013-01-06     12     10.0      9.0     13.0     10.0\n",
       "2013-01-07     10     12.0     12.0     10.0      9.0"
      ]
     },
     "execution_count": 46,
     "metadata": {},
     "output_type": "execute_result"
    }
   ],
   "source": [
    "df_1_1.head()"
   ]
  },
  {
   "cell_type": "code",
   "execution_count": 47,
   "metadata": {},
   "outputs": [
    {
     "data": {
      "text/html": [
       "<div>\n",
       "<style scoped>\n",
       "    .dataframe tbody tr th:only-of-type {\n",
       "        vertical-align: middle;\n",
       "    }\n",
       "\n",
       "    .dataframe tbody tr th {\n",
       "        vertical-align: top;\n",
       "    }\n",
       "\n",
       "    .dataframe thead th {\n",
       "        text-align: right;\n",
       "    }\n",
       "</style>\n",
       "<table border=\"1\" class=\"dataframe\">\n",
       "  <thead>\n",
       "    <tr style=\"text-align: right;\">\n",
       "      <th></th>\n",
       "      <th>sales</th>\n",
       "      <th>sales-1</th>\n",
       "      <th>sales+2</th>\n",
       "      <th>sales-2</th>\n",
       "      <th>sales+1</th>\n",
       "    </tr>\n",
       "    <tr>\n",
       "      <th>date</th>\n",
       "      <th></th>\n",
       "      <th></th>\n",
       "      <th></th>\n",
       "      <th></th>\n",
       "      <th></th>\n",
       "    </tr>\n",
       "  </thead>\n",
       "  <tbody>\n",
       "    <tr>\n",
       "      <td>2017-12-25</td>\n",
       "      <td>13</td>\n",
       "      <td>19.0</td>\n",
       "      <td>14.0</td>\n",
       "      <td>18.0</td>\n",
       "      <td>16.0</td>\n",
       "    </tr>\n",
       "    <tr>\n",
       "      <td>2017-12-26</td>\n",
       "      <td>16</td>\n",
       "      <td>13.0</td>\n",
       "      <td>19.0</td>\n",
       "      <td>19.0</td>\n",
       "      <td>14.0</td>\n",
       "    </tr>\n",
       "    <tr>\n",
       "      <td>2017-12-27</td>\n",
       "      <td>14</td>\n",
       "      <td>16.0</td>\n",
       "      <td>15.0</td>\n",
       "      <td>13.0</td>\n",
       "      <td>19.0</td>\n",
       "    </tr>\n",
       "    <tr>\n",
       "      <td>2017-12-28</td>\n",
       "      <td>19</td>\n",
       "      <td>14.0</td>\n",
       "      <td>27.0</td>\n",
       "      <td>16.0</td>\n",
       "      <td>15.0</td>\n",
       "    </tr>\n",
       "    <tr>\n",
       "      <td>2017-12-29</td>\n",
       "      <td>15</td>\n",
       "      <td>19.0</td>\n",
       "      <td>23.0</td>\n",
       "      <td>14.0</td>\n",
       "      <td>NaN</td>\n",
       "    </tr>\n",
       "  </tbody>\n",
       "</table>\n",
       "</div>"
      ],
      "text/plain": [
       "            sales  sales-1  sales+2  sales-2  sales+1\n",
       "date                                                 \n",
       "2017-12-25     13     19.0     14.0     18.0     16.0\n",
       "2017-12-26     16     13.0     19.0     19.0     14.0\n",
       "2017-12-27     14     16.0     15.0     13.0     19.0\n",
       "2017-12-28     19     14.0     27.0     16.0     15.0\n",
       "2017-12-29     15     19.0     23.0     14.0      NaN"
      ]
     },
     "execution_count": 47,
     "metadata": {},
     "output_type": "execute_result"
    }
   ],
   "source": [
    "df_1_1.tail()"
   ]
  },
  {
   "cell_type": "markdown",
   "metadata": {},
   "source": [
    "# Looking at the Data"
   ]
  },
  {
   "cell_type": "code",
   "execution_count": 48,
   "metadata": {},
   "outputs": [],
   "source": [
    "agg_month_item = pd.pivot_table(df, index='month', columns='item', values='sales', aggfunc=np.sum).values"
   ]
  },
  {
   "cell_type": "code",
   "execution_count": 49,
   "metadata": {},
   "outputs": [
    {
     "name": "stdout",
     "output_type": "stream",
     "text": [
      "[[ 22987  61861  38669  22891  19429  61532  61533  80892  54026  77770\n",
      "   73279  72923  88719  62095  93361  26882  34807  88737  42562  49830\n",
      "   42383  84643  31043  69725  84973  50004  23218  93187  73382  42533\n",
      "   61685  46398  73126  27285  69554  81116  30905  85045  46451  30843\n",
      "   23390  38686  54217  31034  84770  61953  23156  53815  30709  69135]\n",
      " [ 23346  62662  38833  23310  19507  61974  61933  81600  54967  77725\n",
      "   74159  74109  89388  63069  93185  27508  34896  89965  42951  50654\n",
      "   42856  85756  31242  70126  85643  50693  23139  92984  74140  42933\n",
      "   62524  46704  73972  27265  70466  81746  30997  85142  46527  30971\n",
      "   23345  38974  54621  31152  85373  62187  23439  54699  30961  69859]\n",
      " [ 30539  82407  51077  30714  25639  82257  82435 108269  72441 102629\n",
      "   97449  97574 118478  81896 123894  36159  46268 117814  56683  66772\n",
      "   56604 113086  41396  92756 113192  67158  30820 123320  97395  56658\n",
      "   82596  61091  97910  36248  92294 107743  41271 112833  61725  40856\n",
      "   30918  51432  72095  41254 113445  82003  30904  71997  41179  92609]\n",
      " [ 35019  92269  57872  35157  29273  92925  93255 122142  80934 116228\n",
      "  110550 110717 133288  93293 139421  40553  52162 133165  63975  74929\n",
      "   63832 127392  46002 104660 128202  75437  34792 138903 110715  63864\n",
      "   93406  69780 109661  40997 103816 121470  45988 127104  69525  46176\n",
      "   35125  58106  81037  46464 127441  92408  34601  81442  46270 104724]\n",
      " [ 38227 103052  64264  38609  32288 102328 102490 134947  89752 128440\n",
      "  122411 122233 148231 102874 154439  45483  57729 148330  70514  83377\n",
      "   70559 141134  51256 115749 141437  83399  38975 154027 122080  71071\n",
      "  102647  77486 122310  45002 115264 135658  51033 141355  76851  51667\n",
      "   38736  64245  89936  51608 140637 102581  38720  90121  51501 115374]\n",
      " [ 40400 105873  66494  40072  33373 105961 106251 139617  93077 131576\n",
      "  126415 126228 152587 106116 159095  46245  59460 152786  73056  85448\n",
      "   72947 145067  53061 119803 145787  86459  40001 158504 126373  72552\n",
      "  105926  79324 125659  46202 119293 139156  53156 145808  79010  52611\n",
      "   39510  66530  92412  53375 146337 106764  39767  92644  53393 119350]\n",
      " [ 43993 115538  72837  43528  36594 116360 116375 152729 102269 145265\n",
      "  138917 138863 166951 116381 174769  51038  65434 167898  80359  94196\n",
      "   80412 159556  58364 131250 160545  94664  43856 174502 138017  80378\n",
      "  116190  87482 138754  50993 130717 153034  57987 159883  87386  58317\n",
      "   43663  72677 102189  58212 161164 116733  43918 102024  58464 130768]\n",
      " [ 38387 102555  64352  38753  32116 103063 102695 133965  90119 128678\n",
      "  121630 121541 147956 102616 154264  44757  58596 147445  70772  83308\n",
      "   70930 141721  51334 115823 141021  83547  38899 153958 122062  70596\n",
      "  102863  76743 122394  44967 115911 135122  51491 141387  77152  51292\n",
      "   38666  64239  89570  51407 141178 102547  38675  89796  51864 115932]\n",
      " [ 34613  92939  57796  34836  28758  92352  92094 121704  81217 115901\n",
      "  109582 109795 133117  92377 139422  40586  52689 133001  63684  75794\n",
      "   63633 127758  46385 104450 127795  75021  34892 139035 110064  63787\n",
      "   92683  69640 109606  40803 103909 121959  46508 127729  69279  46107\n",
      "   34674  58210  80991  46759 127639  92549  34461  81464  46308 104102]\n",
      " [ 33403  88672  55476  33417  27527  88847  89272 117036  78038 111725\n",
      "  105683 105705 128730  89192 133672  39023  50232 128092  61049  72291\n",
      "   60883 122409  44623 100062 122065  71943  33602 134286 105621  61462\n",
      "   88937  67539 105168  39091  99475 117547  44184 122648  66538  44270\n",
      "   33278  55493  77454  44599 122267  88926  33486  77898  44615 100069]\n",
      " [ 34812  92722  58320  34941  29242  92498  92204 122386  81659 116046\n",
      "  110244 110634 133616  92785 139457  40411  51750 133396  64088  75083\n",
      "   64083 127196  46384 104336 128242  76074  34734 139342 110430  63639\n",
      "   92713  69762 110405  41081 104264 122041  46363 127458  69907  46866\n",
      "   34804  58486  81947  46668 127213  93563  34785  81590  46457 104229]\n",
      " [ 25658  69014  43097  25679  21484  68184  68240  89821  59880  85150\n",
      "   81606  81212  98560  68837 102463  29835  38463  98247  47199  55959\n",
      "   47068  94253  33889  77235  94432  55582  25700 102665  80961  47081\n",
      "   68675  51158  81218  30001  76578  89956  34375  93938  50960  34118\n",
      "   25650  42847  60166  34279  94003  68550  25869  60213  33942  76858]]\n"
     ]
    }
   ],
   "source": [
    "print(agg_month_item)"
   ]
  },
  {
   "cell_type": "code",
   "execution_count": 50,
   "metadata": {},
   "outputs": [
    {
     "data": {
      "text/plain": [
       "357733"
      ]
     },
     "execution_count": 50,
     "metadata": {},
     "output_type": "execute_result"
    }
   ],
   "source": [
    "df[\"2017-01-03\" : \"2017-01-20\"].sales.sum()"
   ]
  },
  {
   "cell_type": "code",
   "execution_count": 51,
   "metadata": {},
   "outputs": [
    {
     "data": {
      "text/plain": [
       "store        int64\n",
       "item         int64\n",
       "sales        int64\n",
       "day          int64\n",
       "month        int64\n",
       "year         int64\n",
       "dayofweek    int64\n",
       "dtype: object"
      ]
     },
     "execution_count": 51,
     "metadata": {},
     "output_type": "execute_result"
    }
   ],
   "source": [
    "df.dtypes"
   ]
  },
  {
   "cell_type": "code",
   "execution_count": 52,
   "metadata": {},
   "outputs": [
    {
     "data": {
      "text/html": [
       "<div>\n",
       "<style scoped>\n",
       "    .dataframe tbody tr th:only-of-type {\n",
       "        vertical-align: middle;\n",
       "    }\n",
       "\n",
       "    .dataframe tbody tr th {\n",
       "        vertical-align: top;\n",
       "    }\n",
       "\n",
       "    .dataframe thead th {\n",
       "        text-align: right;\n",
       "    }\n",
       "</style>\n",
       "<table border=\"1\" class=\"dataframe\">\n",
       "  <thead>\n",
       "    <tr style=\"text-align: right;\">\n",
       "      <th></th>\n",
       "      <th>store</th>\n",
       "      <th>item</th>\n",
       "      <th>sales</th>\n",
       "      <th>day</th>\n",
       "      <th>month</th>\n",
       "      <th>year</th>\n",
       "      <th>dayofweek</th>\n",
       "    </tr>\n",
       "    <tr>\n",
       "      <th>date</th>\n",
       "      <th></th>\n",
       "      <th></th>\n",
       "      <th></th>\n",
       "      <th></th>\n",
       "      <th></th>\n",
       "      <th></th>\n",
       "      <th></th>\n",
       "    </tr>\n",
       "  </thead>\n",
       "  <tbody>\n",
       "    <tr>\n",
       "      <td>2017-01-01</td>\n",
       "      <td>1</td>\n",
       "      <td>1</td>\n",
       "      <td>19</td>\n",
       "      <td>1</td>\n",
       "      <td>1</td>\n",
       "      <td>2017</td>\n",
       "      <td>6</td>\n",
       "    </tr>\n",
       "    <tr>\n",
       "      <td>2017-01-02</td>\n",
       "      <td>1</td>\n",
       "      <td>1</td>\n",
       "      <td>15</td>\n",
       "      <td>2</td>\n",
       "      <td>1</td>\n",
       "      <td>2017</td>\n",
       "      <td>0</td>\n",
       "    </tr>\n",
       "    <tr>\n",
       "      <td>2017-01-03</td>\n",
       "      <td>1</td>\n",
       "      <td>1</td>\n",
       "      <td>10</td>\n",
       "      <td>3</td>\n",
       "      <td>1</td>\n",
       "      <td>2017</td>\n",
       "      <td>1</td>\n",
       "    </tr>\n",
       "    <tr>\n",
       "      <td>2017-01-04</td>\n",
       "      <td>1</td>\n",
       "      <td>1</td>\n",
       "      <td>16</td>\n",
       "      <td>4</td>\n",
       "      <td>1</td>\n",
       "      <td>2017</td>\n",
       "      <td>2</td>\n",
       "    </tr>\n",
       "    <tr>\n",
       "      <td>2017-01-05</td>\n",
       "      <td>1</td>\n",
       "      <td>1</td>\n",
       "      <td>14</td>\n",
       "      <td>5</td>\n",
       "      <td>1</td>\n",
       "      <td>2017</td>\n",
       "      <td>3</td>\n",
       "    </tr>\n",
       "    <tr>\n",
       "      <td>...</td>\n",
       "      <td>...</td>\n",
       "      <td>...</td>\n",
       "      <td>...</td>\n",
       "      <td>...</td>\n",
       "      <td>...</td>\n",
       "      <td>...</td>\n",
       "      <td>...</td>\n",
       "    </tr>\n",
       "    <tr>\n",
       "      <td>2017-01-27</td>\n",
       "      <td>10</td>\n",
       "      <td>50</td>\n",
       "      <td>61</td>\n",
       "      <td>27</td>\n",
       "      <td>1</td>\n",
       "      <td>2017</td>\n",
       "      <td>4</td>\n",
       "    </tr>\n",
       "    <tr>\n",
       "      <td>2017-01-28</td>\n",
       "      <td>10</td>\n",
       "      <td>50</td>\n",
       "      <td>65</td>\n",
       "      <td>28</td>\n",
       "      <td>1</td>\n",
       "      <td>2017</td>\n",
       "      <td>5</td>\n",
       "    </tr>\n",
       "    <tr>\n",
       "      <td>2017-01-29</td>\n",
       "      <td>10</td>\n",
       "      <td>50</td>\n",
       "      <td>66</td>\n",
       "      <td>29</td>\n",
       "      <td>1</td>\n",
       "      <td>2017</td>\n",
       "      <td>6</td>\n",
       "    </tr>\n",
       "    <tr>\n",
       "      <td>2017-01-30</td>\n",
       "      <td>10</td>\n",
       "      <td>50</td>\n",
       "      <td>46</td>\n",
       "      <td>30</td>\n",
       "      <td>1</td>\n",
       "      <td>2017</td>\n",
       "      <td>0</td>\n",
       "    </tr>\n",
       "    <tr>\n",
       "      <td>2017-01-31</td>\n",
       "      <td>10</td>\n",
       "      <td>50</td>\n",
       "      <td>53</td>\n",
       "      <td>31</td>\n",
       "      <td>1</td>\n",
       "      <td>2017</td>\n",
       "      <td>1</td>\n",
       "    </tr>\n",
       "  </tbody>\n",
       "</table>\n",
       "<p>15500 rows × 7 columns</p>\n",
       "</div>"
      ],
      "text/plain": [
       "            store  item  sales  day  month  year  dayofweek\n",
       "date                                                       \n",
       "2017-01-01      1     1     19    1      1  2017          6\n",
       "2017-01-02      1     1     15    2      1  2017          0\n",
       "2017-01-03      1     1     10    3      1  2017          1\n",
       "2017-01-04      1     1     16    4      1  2017          2\n",
       "2017-01-05      1     1     14    5      1  2017          3\n",
       "...           ...   ...    ...  ...    ...   ...        ...\n",
       "2017-01-27     10    50     61   27      1  2017          4\n",
       "2017-01-28     10    50     65   28      1  2017          5\n",
       "2017-01-29     10    50     66   29      1  2017          6\n",
       "2017-01-30     10    50     46   30      1  2017          0\n",
       "2017-01-31     10    50     53   31      1  2017          1\n",
       "\n",
       "[15500 rows x 7 columns]"
      ]
     },
     "execution_count": 52,
     "metadata": {},
     "output_type": "execute_result"
    }
   ],
   "source": [
    "df[\"2017-01\"]"
   ]
  },
  {
   "cell_type": "markdown",
   "metadata": {},
   "source": [
    "# Plotting 1"
   ]
  },
  {
   "cell_type": "code",
   "execution_count": 53,
   "metadata": {},
   "outputs": [
    {
     "data": {
      "text/plain": [
       "<matplotlib.axes._subplots.AxesSubplot at 0x21525586a48>"
      ]
     },
     "execution_count": 53,
     "metadata": {},
     "output_type": "execute_result"
    },
    {
     "data": {
      "image/png": "[encoded data removed]",
      "text/plain": [
       "<Figure size 432x288 with 1 Axes>"
      ]
     },
     "metadata": {
      "needs_background": "light"
     },
     "output_type": "display_data"
    }
   ],
   "source": [
    "df.sales.resample('M').sum().plot()"
   ]
  },
  {
   "cell_type": "code",
   "execution_count": 54,
   "metadata": {},
   "outputs": [
    {
     "data": {
      "text/plain": [
       "<matplotlib.axes._subplots.AxesSubplot at 0x215255e67c8>"
      ]
     },
     "execution_count": 54,
     "metadata": {},
     "output_type": "execute_result"
    },
    {
     "data": {
      "image/png": "[encoded data removed]",
      "text/plain": [
       "<Figure size 432x288 with 1 Axes>"
      ]
     },
     "metadata": {
      "needs_background": "light"
     },
     "output_type": "display_data"
    }
   ],
   "source": [
    "df[\"2017-01-01\" : \"2017-12-31\"].sales.resample('W').sum().plot()"
   ]
  },
  {
   "cell_type": "code",
   "execution_count": 55,
   "metadata": {},
   "outputs": [
    {
     "data": {
      "text/plain": [
       "<matplotlib.axes._subplots.AxesSubplot at 0x215256ea248>"
      ]
     },
     "execution_count": 55,
     "metadata": {},
     "output_type": "execute_result"
    },
    {
     "data": {
      "image/png": "[encoded data removed]",
      "text/plain": [
       "<Figure size 432x288 with 1 Axes>"
      ]
     },
     "metadata": {
      "needs_background": "light"
     },
     "output_type": "display_data"
    }
   ],
   "source": [
    "df[\"2016-01-01\" : \"2016-12-31\"].sales.resample('W').sum().plot()"
   ]
  },
  {
   "cell_type": "code",
   "execution_count": 56,
   "metadata": {},
   "outputs": [
    {
     "data": {
      "text/plain": [
       "<matplotlib.axes._subplots.AxesSubplot at 0x21527affc08>"
      ]
     },
     "execution_count": 56,
     "metadata": {},
     "output_type": "execute_result"
    },
    {
     "data": {
      "image/png": "[encoded data removed]",
      "text/plain": [
       "<Figure size 432x288 with 1 Axes>"
      ]
     },
     "metadata": {
      "needs_background": "light"
     },
     "output_type": "display_data"
    }
   ],
   "source": [
    "df[\"2017-01-03\" : \"2017-12-31\"].sales.resample('W').sum().plot(kind=\"hist\")"
   ]
  },
  {
   "cell_type": "code",
   "execution_count": 57,
   "metadata": {},
   "outputs": [
    {
     "data": {
      "text/plain": [
       "<matplotlib.axes._subplots.AxesSubplot at 0x21523d0bec8>"
      ]
     },
     "execution_count": 57,
     "metadata": {},
     "output_type": "execute_result"
    },
    {
     "data": {
      "image/png": "[encoded data removed]",
      "text/plain": [
       "<Figure size 432x288 with 1 Axes>"
      ]
     },
     "metadata": {
      "needs_background": "light"
     },
     "output_type": "display_data"
    }
   ],
   "source": [
    "df.sales.resample('B').sum().plot()"
   ]
  },
  {
   "cell_type": "code",
   "execution_count": 58,
   "metadata": {},
   "outputs": [
    {
     "data": {
      "text/plain": [
       "<matplotlib.axes._subplots.AxesSubplot at 0x21527c2d048>"
      ]
     },
     "execution_count": 58,
     "metadata": {},
     "output_type": "execute_result"
    },
    {
     "data": {
      "image/png": "[encoded data removed]",
      "text/plain": [
       "<Figure size 432x288 with 1 Axes>"
      ]
     },
     "metadata": {
      "needs_background": "light"
     },
     "output_type": "display_data"
    }
   ],
   "source": [
    "df[\"2017-01-01\" : \"2017-01-31\"].sales.resample('d').sum().plot()  "
   ]
  },
  {
   "cell_type": "markdown",
   "metadata": {},
   "source": [
    "# ACF FROM HERE"
   ]
  },
  {
   "cell_type": "code",
   "execution_count": 59,
   "metadata": {},
   "outputs": [],
   "source": [
    "from statsmodels.graphics.tsaplots import plot_acf"
   ]
  },
  {
   "cell_type": "code",
   "execution_count": 60,
   "metadata": {},
   "outputs": [],
   "source": [
    "Jan2017 = df[\"2017-01-01\" : \"2017-01-31\"].sales.resample('d').sum()  "
   ]
  },
  {
   "cell_type": "code",
   "execution_count": 61,
   "metadata": {},
   "outputs": [
    {
     "data": {
      "image/png": "[encoded data removed]",
      "text/plain": [
       "<Figure size 432x288 with 1 Axes>"
      ]
     },
     "execution_count": 61,
     "metadata": {},
     "output_type": "execute_result"
    },
    {
     "data": {
      "image/png": "[encoded data removed]",
      "text/plain": [
       "<Figure size 432x288 with 1 Axes>"
      ]
     },
     "metadata": {
      "needs_background": "light"
     },
     "output_type": "display_data"
    }
   ],
   "source": [
    "plot_acf(Jan2017)"
   ]
  },
  {
   "cell_type": "code",
   "execution_count": 62,
   "metadata": {},
   "outputs": [
    {
     "data": {
      "text/plain": [
       "[<matplotlib.lines.Line2D at 0x21527f717c8>]"
      ]
     },
     "execution_count": 62,
     "metadata": {},
     "output_type": "execute_result"
    },
    {
     "data": {
      "image/png": "[encoded data removed]",
      "text/plain": [
       "<Figure size 432x288 with 1 Axes>"
      ]
     },
     "metadata": {
      "needs_background": "light"
     },
     "output_type": "display_data"
    }
   ],
   "source": [
    "plt.plot(Jan2017)"
   ]
  },
  {
   "cell_type": "code",
   "execution_count": 63,
   "metadata": {},
   "outputs": [],
   "source": [
    "T2017 = df[\"2017-01-01\" : \"2017-12-31\"].sales.resample('m').sum() "
   ]
  },
  {
   "cell_type": "code",
   "execution_count": 64,
   "metadata": {},
   "outputs": [],
   "source": [
    "#plot_acf(T2017)"
   ]
  },
  {
   "cell_type": "code",
   "execution_count": 65,
   "metadata": {},
   "outputs": [],
   "source": [
    "df_1_1_Jan_17 = df_1_1[\"2017-01-01\" : \"2017-01-31\"]"
   ]
  },
  {
   "cell_type": "code",
   "execution_count": 66,
   "metadata": {},
   "outputs": [],
   "source": [
    "df_1_1_Jan_17 = df_1_1_Jan_17['sales']"
   ]
  },
  {
   "cell_type": "code",
   "execution_count": 67,
   "metadata": {},
   "outputs": [],
   "source": [
    "Byyear = df[\"2013-01-01\" : \"2017-12-31\"].sales.resample('y').sum() "
   ]
  },
  {
   "cell_type": "code",
   "execution_count": 68,
   "metadata": {},
   "outputs": [
    {
     "data": {
      "image/png": "[encoded data removed]",
      "text/plain": [
       "<Figure size 432x288 with 1 Axes>"
      ]
     },
     "execution_count": 68,
     "metadata": {},
     "output_type": "execute_result"
    },
    {
     "data": {
      "image/png": "[encoded data removed]",
      "text/plain": [
       "<Figure size 432x288 with 1 Axes>"
      ]
     },
     "metadata": {
      "needs_background": "light"
     },
     "output_type": "display_data"
    }
   ],
   "source": [
    "plot_acf(Byyear)"
   ]
  },
  {
   "cell_type": "code",
   "execution_count": null,
   "metadata": {},
   "outputs": [],
   "source": []
  },
  {
   "cell_type": "markdown",
   "metadata": {},
   "source": [
    "# Graph 2"
   ]
  },
  {
   "cell_type": "code",
   "execution_count": 69,
   "metadata": {},
   "outputs": [
    {
     "data": {
      "text/plain": [
       "<matplotlib.axes._subplots.AxesSubplot at 0x215280fe508>"
      ]
     },
     "execution_count": 69,
     "metadata": {},
     "output_type": "execute_result"
    },
    {
     "data": {
      "image/png": "[encoded data removed]",
      "text/plain": [
       "<Figure size 432x288 with 1 Axes>"
      ]
     },
     "metadata": {
      "needs_background": "light"
     },
     "output_type": "display_data"
    }
   ],
   "source": [
    "sns.pointplot(x=df['year'], y=df['sales'])"
   ]
  },
  {
   "cell_type": "markdown",
   "metadata": {},
   "source": [
    "# More Working With Data"
   ]
  },
  {
   "cell_type": "code",
   "execution_count": 70,
   "metadata": {},
   "outputs": [
    {
     "data": {
      "image/png": "[encoded data removed]",
      "text/plain": [
       "<Figure size 432x288 with 1 Axes>"
      ]
     },
     "metadata": {
      "needs_background": "light"
     },
     "output_type": "display_data"
    }
   ],
   "source": [
    "df['Year'] = df.index.year\n",
    "df['Month'] = df.index.month\n",
    "#df['Weekday Name'] = df.weekday_name\n",
    "df.sample(5, random_state=0)\n",
    "\n",
    "ax = df.loc['2017', 'sales'].plot()"
   ]
  },
  {
   "cell_type": "code",
   "execution_count": 71,
   "metadata": {},
   "outputs": [
    {
     "data": {
      "image/png": "[encoded data removed]",
      "text/plain": [
       "<Figure size 432x288 with 1 Axes>"
      ]
     },
     "metadata": {
      "needs_background": "light"
     },
     "output_type": "display_data"
    }
   ],
   "source": [
    "sns.boxplot(data=df, x='Year', y='sales');"
   ]
  },
  {
   "cell_type": "code",
   "execution_count": 72,
   "metadata": {},
   "outputs": [
    {
     "data": {
      "image/png": "[encoded data removed]",
      "text/plain": [
       "<Figure size 432x288 with 1 Axes>"
      ]
     },
     "metadata": {
      "needs_background": "light"
     },
     "output_type": "display_data"
    }
   ],
   "source": [
    "sns.boxplot(data=df, x='Month', y='sales');"
   ]
  },
  {
   "cell_type": "code",
   "execution_count": 73,
   "metadata": {},
   "outputs": [
    {
     "data": {
      "image/png": "[encoded data removed]",
      "text/plain": [
       "<Figure size 432x288 with 1 Axes>"
      ]
     },
     "metadata": {
      "needs_background": "light"
     },
     "output_type": "display_data"
    }
   ],
   "source": [
    "sns.boxplot(data=df, x='store', y='sales');"
   ]
  },
  {
   "cell_type": "code",
   "execution_count": 74,
   "metadata": {},
   "outputs": [
    {
     "data": {
      "image/png": "[encoded data removed]",
      "text/plain": [
       "<Figure size 432x288 with 1 Axes>"
      ]
     },
     "metadata": {
      "needs_background": "light"
     },
     "output_type": "display_data"
    }
   ],
   "source": [
    "sns.boxplot(data=df, x='item', y='sales');"
   ]
  },
  {
   "cell_type": "markdown",
   "metadata": {},
   "source": [
    "# Working with data"
   ]
  },
  {
   "cell_type": "code",
   "execution_count": 75,
   "metadata": {},
   "outputs": [
    {
     "name": "stdout",
     "output_type": "stream",
     "text": [
      "             sales\n",
      "dayofweek         \n",
      "0          5385853\n",
      "1          6293481\n",
      "2          6312090\n",
      "3          6749880\n",
      "4          7198021\n",
      "5          7655482\n",
      "6          8109705\n"
     ]
    }
   ],
   "source": [
    "daybyweek = df.groupby(['dayofweek']).agg({'sales':'sum'})\n",
    "print(daybyweek)"
   ]
  },
  {
   "cell_type": "code",
   "execution_count": 76,
   "metadata": {},
   "outputs": [
    {
     "name": "stdout",
     "output_type": "stream",
     "text": [
      "       sales\n",
      "day         \n",
      "1    1564813\n",
      "2    1568702\n",
      "3    1569207\n",
      "4    1554696\n",
      "5    1574560\n",
      "6    1563912\n",
      "7    1561288\n",
      "8    1568334\n",
      "9    1566204\n",
      "10   1569389\n",
      "11   1555628\n",
      "12   1573606\n",
      "13   1563609\n",
      "14   1565306\n",
      "15   1566586\n",
      "16   1568235\n",
      "17   1570878\n",
      "18   1553684\n",
      "19   1577137\n",
      "20   1565097\n",
      "21   1565465\n",
      "22   1568717\n",
      "23   1565812\n",
      "24   1567916\n",
      "25   1555077\n",
      "26   1578050\n",
      "27   1562991\n",
      "28   1563152\n",
      "29   1484679\n",
      "30   1468546\n",
      "31    903236\n"
     ]
    }
   ],
   "source": [
    "day = df.groupby(['day']).agg({'sales':'sum'})\n",
    "print(day)"
   ]
  },
  {
   "cell_type": "code",
   "execution_count": 77,
   "metadata": {},
   "outputs": [
    {
     "name": "stdout",
     "output_type": "stream",
     "text": [
      "             sales\n",
      "item store        \n",
      "1    1       36468\n",
      "     2       51445\n",
      "     3       45778\n",
      "     4       41886\n",
      "     5       30566\n",
      "...            ...\n",
      "50   6       92243\n",
      "     7       83674\n",
      "     8      147855\n",
      "     9      126557\n",
      "     10     135192\n",
      "\n",
      "[500 rows x 1 columns]\n"
     ]
    }
   ],
   "source": [
    "day = df.groupby(['item','store' ]).agg({'sales':'sum'})\n",
    "print(day)"
   ]
  },
  {
   "cell_type": "code",
   "execution_count": 78,
   "metadata": {},
   "outputs": [],
   "source": [
    "SalesByDay = df.groupby(['date']).agg({'sales':'sum'})"
   ]
  },
  {
   "cell_type": "code",
   "execution_count": 79,
   "metadata": {},
   "outputs": [
    {
     "name": "stdout",
     "output_type": "stream",
     "text": [
      "            sales\n",
      "date             \n",
      "2013-01-01  13696\n",
      "2013-01-02  13678\n",
      "2013-01-03  14488\n",
      "2013-01-04  15677\n",
      "2013-01-05  16237\n",
      "...           ...\n",
      "2017-12-27  20378\n",
      "2017-12-28  21885\n",
      "2017-12-29  23535\n",
      "2017-12-30  24988\n",
      "2017-12-31  26420\n",
      "\n",
      "[1826 rows x 1 columns]\n"
     ]
    }
   ],
   "source": [
    "print (SalesByDay)"
   ]
  },
  {
   "cell_type": "code",
   "execution_count": 80,
   "metadata": {},
   "outputs": [
    {
     "data": {
      "text/plain": [
       "<matplotlib.axes._subplots.AxesSubplot at 0x21528816e88>"
      ]
     },
     "execution_count": 80,
     "metadata": {},
     "output_type": "execute_result"
    },
    {
     "data": {
      "image/png": "[encoded data removed]",
      "text/plain": [
       "<Figure size 432x288 with 1 Axes>"
      ]
     },
     "metadata": {
      "needs_background": "light"
     },
     "output_type": "display_data"
    }
   ],
   "source": [
    "SalesByDay.plot()"
   ]
  },
  {
   "cell_type": "code",
   "execution_count": 81,
   "metadata": {},
   "outputs": [],
   "source": [
    "salesstore = df.groupby(['date','store']).agg({'sales' : 'sum'})"
   ]
  },
  {
   "cell_type": "code",
   "execution_count": 82,
   "metadata": {},
   "outputs": [
    {
     "name": "stdout",
     "output_type": "stream",
     "text": [
      "         sales\n",
      "year          \n",
      "2013   7941243\n",
      "2014   9135482\n",
      "2015   9536887\n",
      "2016  10357160\n",
      "2017  10733740\n"
     ]
    }
   ],
   "source": [
    "sales_by_year = pd.pivot_table(df, index='year', values='sales', aggfunc=np.sum)\n",
    "print(sales_by_year)"
   ]
  },
  {
   "cell_type": "markdown",
   "metadata": {},
   "source": [
    "# By ITEM"
   ]
  },
  {
   "cell_type": "code",
   "execution_count": 83,
   "metadata": {},
   "outputs": [
    {
     "data": {
      "text/plain": [
       "<matplotlib.axes._subplots.AxesSubplot at 0x215286f0848>"
      ]
     },
     "execution_count": 83,
     "metadata": {},
     "output_type": "execute_result"
    },
    {
     "data": {
      "image/png": "[encoded data removed]",
      "text/plain": [
       "<Figure size 432x288 with 1 Axes>"
      ]
     },
     "metadata": {
      "needs_background": "light"
     },
     "output_type": "display_data"
    }
   ],
   "source": [
    "df[df.item == 1]['sales'].plot()"
   ]
  },
  {
   "cell_type": "code",
   "execution_count": 84,
   "metadata": {},
   "outputs": [
    {
     "data": {
      "text/plain": [
       "<matplotlib.axes._subplots.AxesSubplot at 0x2152cf5d648>"
      ]
     },
     "execution_count": 84,
     "metadata": {},
     "output_type": "execute_result"
    },
    {
     "data": {
      "image/png": "[encoded data removed]",
      "text/plain": [
       "<Figure size 432x288 with 1 Axes>"
      ]
     },
     "metadata": {
      "needs_background": "light"
     },
     "output_type": "display_data"
    }
   ],
   "source": [
    "df[df.item == 2]['sales'].plot()"
   ]
  },
  {
   "cell_type": "code",
   "execution_count": 85,
   "metadata": {},
   "outputs": [
    {
     "data": {
      "text/plain": [
       "<matplotlib.axes._subplots.AxesSubplot at 0x2152d09ed88>"
      ]
     },
     "execution_count": 85,
     "metadata": {},
     "output_type": "execute_result"
    },
    {
     "data": {
      "image/png": "[encoded data removed]",
      "text/plain": [
       "<Figure size 432x288 with 1 Axes>"
      ]
     },
     "metadata": {
      "needs_background": "light"
     },
     "output_type": "display_data"
    }
   ],
   "source": [
    "df[df.item == 20]['sales'].plot()"
   ]
  },
  {
   "cell_type": "code",
   "execution_count": 86,
   "metadata": {},
   "outputs": [],
   "source": [
    "storetotal = df.groupby(['store']).agg({'sales':'sum'})"
   ]
  },
  {
   "cell_type": "code",
   "execution_count": 87,
   "metadata": {},
   "outputs": [
    {
     "name": "stdout",
     "output_type": "stream",
     "text": [
      "47704512\n"
     ]
    }
   ],
   "source": [
    "print(sum(storetotal['sales']))"
   ]
  },
  {
   "cell_type": "code",
   "execution_count": 88,
   "metadata": {},
   "outputs": [
    {
     "name": "stdout",
     "output_type": "stream",
     "text": [
      "         sales\n",
      "store         \n",
      "1      4315603\n",
      "2      6120128\n",
      "3      5435144\n",
      "4      5012639\n",
      "5      3631016\n",
      "6      3627670\n",
      "7      3320009\n",
      "8      5856169\n",
      "9      5025976\n",
      "10     5360158\n"
     ]
    }
   ],
   "source": [
    "print(storetotal)"
   ]
  },
  {
   "cell_type": "code",
   "execution_count": 89,
   "metadata": {},
   "outputs": [],
   "source": [
    "itemtotal = df.groupby(['item']).agg({'sales':'sum'})"
   ]
  },
  {
   "cell_type": "code",
   "execution_count": 90,
   "metadata": {},
   "outputs": [
    {
     "name": "stdout",
     "output_type": "stream",
     "text": [
      "47704512\n"
     ]
    }
   ],
   "source": [
    "print(sum(itemtotal['sales']))"
   ]
  },
  {
   "cell_type": "code",
   "execution_count": 91,
   "metadata": {},
   "outputs": [
    {
     "data": {
      "text/plain": [
       "<matplotlib.axes._subplots.AxesSubplot at 0x2152ce67048>"
      ]
     },
     "execution_count": 91,
     "metadata": {},
     "output_type": "execute_result"
    },
    {
     "data": {
      "image/png": "[encoded data removed]",
      "text/plain": [
       "<Figure size 432x288 with 1 Axes>"
      ]
     },
     "metadata": {
      "needs_background": "light"
     },
     "output_type": "display_data"
    }
   ],
   "source": [
    "store1 = df[df.store == 1]['sales']\n",
    "store1.plot()"
   ]
  },
  {
   "cell_type": "code",
   "execution_count": 92,
   "metadata": {},
   "outputs": [
    {
     "data": {
      "text/plain": [
       "<matplotlib.axes._subplots.AxesSubplot at 0x2152d544e48>"
      ]
     },
     "execution_count": 92,
     "metadata": {},
     "output_type": "execute_result"
    },
    {
     "data": {
      "image/png": "[encoded data removed]",
      "text/plain": [
       "<Figure size 432x288 with 1 Axes>"
      ]
     },
     "metadata": {
      "needs_background": "light"
     },
     "output_type": "display_data"
    }
   ],
   "source": [
    "store5 = df[df.store == 5]['sales']\n",
    "store5.plot(color='green')"
   ]
  },
  {
   "cell_type": "code",
   "execution_count": 93,
   "metadata": {},
   "outputs": [
    {
     "data": {
      "image/png": "[encoded data removed]",
      "text/plain": [
       "<Figure size 432x288 with 1 Axes>"
      ]
     },
     "metadata": {
      "needs_background": "light"
     },
     "output_type": "display_data"
    }
   ],
   "source": [
    "df['sales'].plot(linewidth=0.5);"
   ]
  },
  {
   "cell_type": "markdown",
   "metadata": {},
   "source": [
    "# Working with Totals and Averages\n"
   ]
  },
  {
   "cell_type": "code",
   "execution_count": 94,
   "metadata": {},
   "outputs": [],
   "source": [
    "grand_avg = df.sales.mean()"
   ]
  },
  {
   "cell_type": "code",
   "execution_count": 95,
   "metadata": {},
   "outputs": [
    {
     "data": {
      "text/html": [
       "<div>\n",
       "<style scoped>\n",
       "    .dataframe tbody tr th:only-of-type {\n",
       "        vertical-align: middle;\n",
       "    }\n",
       "\n",
       "    .dataframe tbody tr th {\n",
       "        vertical-align: top;\n",
       "    }\n",
       "\n",
       "    .dataframe thead th {\n",
       "        text-align: right;\n",
       "    }\n",
       "</style>\n",
       "<table border=\"1\" class=\"dataframe\">\n",
       "  <thead>\n",
       "    <tr style=\"text-align: right;\">\n",
       "      <th>item</th>\n",
       "      <th>1</th>\n",
       "      <th>2</th>\n",
       "      <th>3</th>\n",
       "      <th>4</th>\n",
       "      <th>5</th>\n",
       "      <th>6</th>\n",
       "      <th>7</th>\n",
       "      <th>8</th>\n",
       "      <th>9</th>\n",
       "      <th>10</th>\n",
       "      <th>...</th>\n",
       "      <th>41</th>\n",
       "      <th>42</th>\n",
       "      <th>43</th>\n",
       "      <th>44</th>\n",
       "      <th>45</th>\n",
       "      <th>46</th>\n",
       "      <th>47</th>\n",
       "      <th>48</th>\n",
       "      <th>49</th>\n",
       "      <th>50</th>\n",
       "    </tr>\n",
       "    <tr>\n",
       "      <th>store</th>\n",
       "      <th></th>\n",
       "      <th></th>\n",
       "      <th></th>\n",
       "      <th></th>\n",
       "      <th></th>\n",
       "      <th></th>\n",
       "      <th></th>\n",
       "      <th></th>\n",
       "      <th></th>\n",
       "      <th></th>\n",
       "      <th></th>\n",
       "      <th></th>\n",
       "      <th></th>\n",
       "      <th></th>\n",
       "      <th></th>\n",
       "      <th></th>\n",
       "      <th></th>\n",
       "      <th></th>\n",
       "      <th></th>\n",
       "      <th></th>\n",
       "      <th></th>\n",
       "    </tr>\n",
       "  </thead>\n",
       "  <tbody>\n",
       "    <tr>\n",
       "      <td>1</td>\n",
       "      <td>19.971522</td>\n",
       "      <td>53.148959</td>\n",
       "      <td>33.208105</td>\n",
       "      <td>19.956188</td>\n",
       "      <td>16.612815</td>\n",
       "      <td>53.060789</td>\n",
       "      <td>52.783680</td>\n",
       "      <td>69.472070</td>\n",
       "      <td>46.504929</td>\n",
       "      <td>66.354326</td>\n",
       "      <td>...</td>\n",
       "      <td>20.002738</td>\n",
       "      <td>33.105696</td>\n",
       "      <td>46.242607</td>\n",
       "      <td>26.594195</td>\n",
       "      <td>72.720701</td>\n",
       "      <td>52.845016</td>\n",
       "      <td>19.814348</td>\n",
       "      <td>46.546002</td>\n",
       "      <td>26.461665</td>\n",
       "      <td>59.342826</td>\n",
       "    </tr>\n",
       "    <tr>\n",
       "      <td>2</td>\n",
       "      <td>28.173604</td>\n",
       "      <td>75.316539</td>\n",
       "      <td>46.992333</td>\n",
       "      <td>28.234940</td>\n",
       "      <td>23.540526</td>\n",
       "      <td>74.945235</td>\n",
       "      <td>75.058598</td>\n",
       "      <td>99.090361</td>\n",
       "      <td>65.478094</td>\n",
       "      <td>94.097481</td>\n",
       "      <td>...</td>\n",
       "      <td>28.069551</td>\n",
       "      <td>47.368018</td>\n",
       "      <td>65.785323</td>\n",
       "      <td>37.785871</td>\n",
       "      <td>103.381161</td>\n",
       "      <td>75.219606</td>\n",
       "      <td>28.187842</td>\n",
       "      <td>66.028478</td>\n",
       "      <td>37.711939</td>\n",
       "      <td>84.622125</td>\n",
       "    </tr>\n",
       "    <tr>\n",
       "      <td>3</td>\n",
       "      <td>25.070099</td>\n",
       "      <td>66.804491</td>\n",
       "      <td>41.771084</td>\n",
       "      <td>25.116101</td>\n",
       "      <td>20.857612</td>\n",
       "      <td>67.007119</td>\n",
       "      <td>66.647864</td>\n",
       "      <td>87.517525</td>\n",
       "      <td>58.486857</td>\n",
       "      <td>83.387733</td>\n",
       "      <td>...</td>\n",
       "      <td>24.989047</td>\n",
       "      <td>41.797371</td>\n",
       "      <td>58.197700</td>\n",
       "      <td>33.386090</td>\n",
       "      <td>91.851041</td>\n",
       "      <td>66.748083</td>\n",
       "      <td>25.120482</td>\n",
       "      <td>58.700986</td>\n",
       "      <td>33.259584</td>\n",
       "      <td>74.958379</td>\n",
       "    </tr>\n",
       "    <tr>\n",
       "      <td>4</td>\n",
       "      <td>22.938664</td>\n",
       "      <td>61.715225</td>\n",
       "      <td>38.548193</td>\n",
       "      <td>23.086528</td>\n",
       "      <td>19.525192</td>\n",
       "      <td>61.270537</td>\n",
       "      <td>61.625411</td>\n",
       "      <td>80.819825</td>\n",
       "      <td>54.043812</td>\n",
       "      <td>77.047645</td>\n",
       "      <td>...</td>\n",
       "      <td>23.168127</td>\n",
       "      <td>38.539978</td>\n",
       "      <td>54.018620</td>\n",
       "      <td>30.952355</td>\n",
       "      <td>84.687295</td>\n",
       "      <td>61.420044</td>\n",
       "      <td>23.114458</td>\n",
       "      <td>53.765608</td>\n",
       "      <td>30.840635</td>\n",
       "      <td>68.921687</td>\n",
       "    </tr>\n",
       "    <tr>\n",
       "      <td>5</td>\n",
       "      <td>16.739321</td>\n",
       "      <td>44.488499</td>\n",
       "      <td>27.835706</td>\n",
       "      <td>16.776561</td>\n",
       "      <td>14.086528</td>\n",
       "      <td>44.564622</td>\n",
       "      <td>44.535597</td>\n",
       "      <td>58.565717</td>\n",
       "      <td>38.837349</td>\n",
       "      <td>55.509858</td>\n",
       "      <td>...</td>\n",
       "      <td>16.830778</td>\n",
       "      <td>27.730559</td>\n",
       "      <td>39.163198</td>\n",
       "      <td>22.415115</td>\n",
       "      <td>61.427163</td>\n",
       "      <td>44.734940</td>\n",
       "      <td>16.699343</td>\n",
       "      <td>39.281490</td>\n",
       "      <td>22.371851</td>\n",
       "      <td>50.319277</td>\n",
       "    </tr>\n",
       "    <tr>\n",
       "      <td>6</td>\n",
       "      <td>16.717963</td>\n",
       "      <td>44.533954</td>\n",
       "      <td>27.811062</td>\n",
       "      <td>16.754107</td>\n",
       "      <td>13.893209</td>\n",
       "      <td>44.503834</td>\n",
       "      <td>44.599124</td>\n",
       "      <td>58.385542</td>\n",
       "      <td>39.460022</td>\n",
       "      <td>55.565170</td>\n",
       "      <td>...</td>\n",
       "      <td>16.607338</td>\n",
       "      <td>27.893209</td>\n",
       "      <td>39.034502</td>\n",
       "      <td>22.322563</td>\n",
       "      <td>61.142935</td>\n",
       "      <td>44.539978</td>\n",
       "      <td>16.708653</td>\n",
       "      <td>39.052574</td>\n",
       "      <td>22.181271</td>\n",
       "      <td>50.516429</td>\n",
       "    </tr>\n",
       "    <tr>\n",
       "      <td>7</td>\n",
       "      <td>15.159365</td>\n",
       "      <td>40.717963</td>\n",
       "      <td>25.531216</td>\n",
       "      <td>15.358160</td>\n",
       "      <td>12.733844</td>\n",
       "      <td>40.703724</td>\n",
       "      <td>40.709748</td>\n",
       "      <td>53.723987</td>\n",
       "      <td>35.901972</td>\n",
       "      <td>51.156627</td>\n",
       "      <td>...</td>\n",
       "      <td>15.471522</td>\n",
       "      <td>25.435926</td>\n",
       "      <td>35.426068</td>\n",
       "      <td>20.446331</td>\n",
       "      <td>55.905805</td>\n",
       "      <td>40.828587</td>\n",
       "      <td>15.479189</td>\n",
       "      <td>35.624315</td>\n",
       "      <td>20.406353</td>\n",
       "      <td>45.823658</td>\n",
       "    </tr>\n",
       "    <tr>\n",
       "      <td>8</td>\n",
       "      <td>26.983571</td>\n",
       "      <td>71.656627</td>\n",
       "      <td>45.076123</td>\n",
       "      <td>26.948521</td>\n",
       "      <td>22.427711</td>\n",
       "      <td>71.958379</td>\n",
       "      <td>71.730559</td>\n",
       "      <td>94.461117</td>\n",
       "      <td>63.193319</td>\n",
       "      <td>89.818182</td>\n",
       "      <td>...</td>\n",
       "      <td>27.036145</td>\n",
       "      <td>45.144031</td>\n",
       "      <td>62.980285</td>\n",
       "      <td>36.194414</td>\n",
       "      <td>98.941402</td>\n",
       "      <td>72.004929</td>\n",
       "      <td>27.150055</td>\n",
       "      <td>62.737130</td>\n",
       "      <td>36.035049</td>\n",
       "      <td>80.972070</td>\n",
       "    </tr>\n",
       "    <tr>\n",
       "      <td>9</td>\n",
       "      <td>23.325849</td>\n",
       "      <td>61.792442</td>\n",
       "      <td>38.535049</td>\n",
       "      <td>23.150055</td>\n",
       "      <td>19.272180</td>\n",
       "      <td>61.412377</td>\n",
       "      <td>61.812158</td>\n",
       "      <td>81.287514</td>\n",
       "      <td>54.105696</td>\n",
       "      <td>77.105148</td>\n",
       "      <td>...</td>\n",
       "      <td>23.191128</td>\n",
       "      <td>38.643483</td>\n",
       "      <td>54.152793</td>\n",
       "      <td>30.968237</td>\n",
       "      <td>85.093647</td>\n",
       "      <td>62.010953</td>\n",
       "      <td>23.003286</td>\n",
       "      <td>53.976999</td>\n",
       "      <td>31.052574</td>\n",
       "      <td>69.308324</td>\n",
       "    </tr>\n",
       "    <tr>\n",
       "      <td>10</td>\n",
       "      <td>24.736035</td>\n",
       "      <td>65.566813</td>\n",
       "      <td>41.113363</td>\n",
       "      <td>24.721249</td>\n",
       "      <td>20.637459</td>\n",
       "      <td>65.612267</td>\n",
       "      <td>65.807777</td>\n",
       "      <td>86.176889</td>\n",
       "      <td>57.886637</td>\n",
       "      <td>82.232202</td>\n",
       "      <td>...</td>\n",
       "      <td>24.654984</td>\n",
       "      <td>41.222892</td>\n",
       "      <td>57.942497</td>\n",
       "      <td>32.916758</td>\n",
       "      <td>90.690581</td>\n",
       "      <td>66.046550</td>\n",
       "      <td>24.755750</td>\n",
       "      <td>57.814896</td>\n",
       "      <td>33.032311</td>\n",
       "      <td>74.037240</td>\n",
       "    </tr>\n",
       "  </tbody>\n",
       "</table>\n",
       "<p>10 rows × 50 columns</p>\n",
       "</div>"
      ],
      "text/plain": [
       "item          1          2          3          4          5          6   \\\n",
       "store                                                                     \n",
       "1      19.971522  53.148959  33.208105  19.956188  16.612815  53.060789   \n",
       "2      28.173604  75.316539  46.992333  28.234940  23.540526  74.945235   \n",
       "3      25.070099  66.804491  41.771084  25.116101  20.857612  67.007119   \n",
       "4      22.938664  61.715225  38.548193  23.086528  19.525192  61.270537   \n",
       "5      16.739321  44.488499  27.835706  16.776561  14.086528  44.564622   \n",
       "6      16.717963  44.533954  27.811062  16.754107  13.893209  44.503834   \n",
       "7      15.159365  40.717963  25.531216  15.358160  12.733844  40.703724   \n",
       "8      26.983571  71.656627  45.076123  26.948521  22.427711  71.958379   \n",
       "9      23.325849  61.792442  38.535049  23.150055  19.272180  61.412377   \n",
       "10     24.736035  65.566813  41.113363  24.721249  20.637459  65.612267   \n",
       "\n",
       "item          7          8          9          10  ...         41         42  \\\n",
       "store                                              ...                         \n",
       "1      52.783680  69.472070  46.504929  66.354326  ...  20.002738  33.105696   \n",
       "2      75.058598  99.090361  65.478094  94.097481  ...  28.069551  47.368018   \n",
       "3      66.647864  87.517525  58.486857  83.387733  ...  24.989047  41.797371   \n",
       "4      61.625411  80.819825  54.043812  77.047645  ...  23.168127  38.539978   \n",
       "5      44.535597  58.565717  38.837349  55.509858  ...  16.830778  27.730559   \n",
       "6      44.599124  58.385542  39.460022  55.565170  ...  16.607338  27.893209   \n",
       "7      40.709748  53.723987  35.901972  51.156627  ...  15.471522  25.435926   \n",
       "8      71.730559  94.461117  63.193319  89.818182  ...  27.036145  45.144031   \n",
       "9      61.812158  81.287514  54.105696  77.105148  ...  23.191128  38.643483   \n",
       "10     65.807777  86.176889  57.886637  82.232202  ...  24.654984  41.222892   \n",
       "\n",
       "item          43         44          45         46         47         48  \\\n",
       "store                                                                      \n",
       "1      46.242607  26.594195   72.720701  52.845016  19.814348  46.546002   \n",
       "2      65.785323  37.785871  103.381161  75.219606  28.187842  66.028478   \n",
       "3      58.197700  33.386090   91.851041  66.748083  25.120482  58.700986   \n",
       "4      54.018620  30.952355   84.687295  61.420044  23.114458  53.765608   \n",
       "5      39.163198  22.415115   61.427163  44.734940  16.699343  39.281490   \n",
       "6      39.034502  22.322563   61.142935  44.539978  16.708653  39.052574   \n",
       "7      35.426068  20.446331   55.905805  40.828587  15.479189  35.624315   \n",
       "8      62.980285  36.194414   98.941402  72.004929  27.150055  62.737130   \n",
       "9      54.152793  30.968237   85.093647  62.010953  23.003286  53.976999   \n",
       "10     57.942497  32.916758   90.690581  66.046550  24.755750  57.814896   \n",
       "\n",
       "item          49         50  \n",
       "store                        \n",
       "1      26.461665  59.342826  \n",
       "2      37.711939  84.622125  \n",
       "3      33.259584  74.958379  \n",
       "4      30.840635  68.921687  \n",
       "5      22.371851  50.319277  \n",
       "6      22.181271  50.516429  \n",
       "7      20.406353  45.823658  \n",
       "8      36.035049  80.972070  \n",
       "9      31.052574  69.308324  \n",
       "10     33.032311  74.037240  \n",
       "\n",
       "[10 rows x 50 columns]"
      ]
     },
     "metadata": {},
     "output_type": "display_data"
    }
   ],
   "source": [
    "store_item_table = pd.pivot_table(df, index='store', columns='item', values='sales', aggfunc=np.mean)\n",
    "display(store_item_table)"
   ]
  },
  {
   "cell_type": "code",
   "execution_count": 96,
   "metadata": {},
   "outputs": [],
   "source": [
    "month_table = pd.pivot_table(df, index='month', values='sales', aggfunc=np.mean)\n",
    "month_table.sales /= grand_avg"
   ]
  },
  {
   "cell_type": "code",
   "execution_count": 97,
   "metadata": {},
   "outputs": [
    {
     "name": "stdout",
     "output_type": "stream",
     "text": [
      "          sales\n",
      "month          \n",
      "1      0.679891\n",
      "2      0.753649\n",
      "3      0.905365\n",
      "4      1.055552\n",
      "5      1.131634\n",
      "6      1.206223\n",
      "7      1.282263\n",
      "8      1.131194\n",
      "9      1.054018\n",
      "10     0.979780\n",
      "11     1.056800\n",
      "12     0.753398\n"
     ]
    }
   ],
   "source": [
    "print(month_table)"
   ]
  },
  {
   "cell_type": "code",
   "execution_count": 98,
   "metadata": {},
   "outputs": [
    {
     "name": "stdout",
     "output_type": "stream",
     "text": [
      "              sales\n",
      "dayofweek          \n",
      "0          0.792907\n",
      "1          0.922979\n",
      "2          0.925708\n",
      "3          0.989913\n",
      "4          1.055635\n",
      "5          1.122725\n",
      "6          1.189340\n"
     ]
    }
   ],
   "source": [
    "dow_table = pd.pivot_table(df, index='dayofweek', values='sales', aggfunc=np.mean)\n",
    "dow_table.sales /= grand_avg\n",
    "print(dow_table)"
   ]
  },
  {
   "cell_type": "code",
   "execution_count": 99,
   "metadata": {},
   "outputs": [],
   "source": [
    "year_table = pd.pivot_table(df, index='year', values='sales', aggfunc=np.mean)\n",
    "year_table /= grand_avg"
   ]
  },
  {
   "cell_type": "code",
   "execution_count": 100,
   "metadata": {},
   "outputs": [
    {
     "name": "stdout",
     "output_type": "stream",
     "text": [
      "         sales\n",
      "year          \n",
      "2013  0.832793\n",
      "2014  0.958032\n",
      "2015  1.000127\n",
      "2016  1.083181\n",
      "2017  1.125640\n"
     ]
    }
   ],
   "source": [
    "print(year_table)"
   ]
  },
  {
   "cell_type": "code",
   "execution_count": 101,
   "metadata": {},
   "outputs": [
    {
     "name": "stdout",
     "output_type": "stream",
     "text": [
      "<class 'pandas.core.frame.DataFrame'>\n",
      "Int64Index: 5 entries, 2013 to 2017\n",
      "Data columns (total 1 columns):\n",
      "sales    5 non-null float64\n",
      "dtypes: float64(1)\n",
      "memory usage: 80.0 bytes\n"
     ]
    }
   ],
   "source": [
    "year_table.info()"
   ]
  },
  {
   "cell_type": "markdown",
   "metadata": {},
   "source": [
    "# Working with year"
   ]
  },
  {
   "cell_type": "code",
   "execution_count": 102,
   "metadata": {},
   "outputs": [],
   "source": [
    "#year_table.drop([2017])"
   ]
  },
  {
   "cell_type": "code",
   "execution_count": 103,
   "metadata": {},
   "outputs": [],
   "source": [
    "years = np.arange(2013, 2019)\n",
    "annual_sales_avg = year_table.values.squeeze()"
   ]
  },
  {
   "cell_type": "code",
   "execution_count": 104,
   "metadata": {},
   "outputs": [
    {
     "name": "stdout",
     "output_type": "stream",
     "text": [
      "[0.83279275 0.95803178 1.00012685 1.08318071 1.12564001]\n"
     ]
    }
   ],
   "source": [
    "print(annual_sales_avg)"
   ]
  },
  {
   "cell_type": "code",
   "execution_count": 105,
   "metadata": {},
   "outputs": [
    {
     "name": "stdout",
     "output_type": "stream",
     "text": [
      "         sales\n",
      "year          \n",
      "2013  0.832793\n",
      "2014  0.958032\n",
      "2015  1.000127\n",
      "2016  1.083181\n",
      "2017  1.125640\n"
     ]
    }
   ],
   "source": [
    "print(year_table)"
   ]
  },
  {
   "cell_type": "code",
   "execution_count": 106,
   "metadata": {},
   "outputs": [],
   "source": [
    "p1 = np.poly1d(np.polyfit(years[:-1], annual_sales_avg, 1))\n",
    "p2 = np.poly1d(np.polyfit(years[:-1], annual_sales_avg, 2))\n",
    "p3 = np.poly1d(np.polyfit(years[:-1], annual_sales_avg, 3))"
   ]
  },
  {
   "cell_type": "code",
   "execution_count": 107,
   "metadata": {},
   "outputs": [
    {
     "data": {
      "image/png": "[encoded data removed]",
      "text/plain": [
       "<Figure size 576x432 with 1 Axes>"
      ]
     },
     "metadata": {
      "needs_background": "light"
     },
     "output_type": "display_data"
    }
   ],
   "source": [
    "plt.figure(figsize=(8,6))\n",
    "plt.plot(years[:-1], annual_sales_avg, 'ko')\n",
    "plt.plot(years, p1(years), 'C0-', color ='red')\n",
    "plt.plot(years, p2(years), 'C1-',color ='blue')\n",
    "plt.plot(years, p3(years), 'C2-',color ='green')\n",
    "plt.xlim(2012.5, 2018.5)\n",
    "plt.title(\"Relative Sales by Year\")\n",
    "plt.ylabel(\"Relative Sales\")\n",
    "plt.xlabel(\"Year\")\n",
    "plt.show()\n"
   ]
  },
  {
   "cell_type": "code",
   "execution_count": 108,
   "metadata": {},
   "outputs": [
    {
     "name": "stdout",
     "output_type": "stream",
     "text": [
      "2017 Relative Sales by Degree-1 (Linear) Fit = 1.1421\n",
      "2017 Relative Sales by Degree-2 (Quadratic) Fit = 1.1243\n",
      "2017 Relative Sales by Degree-3 (3 degrees) Fit = 1.1286\n"
     ]
    }
   ],
   "source": [
    "print(f\"2017 Relative Sales by Degree-1 (Linear) Fit = {p1(2017):.4f}\")\n",
    "print(f\"2017 Relative Sales by Degree-2 (Quadratic) Fit = {p2(2017):.4f}\")\n",
    "print(f\"2017 Relative Sales by Degree-3 (3 degrees) Fit = {p3(2017):.4f}\")"
   ]
  }
 ],
 "metadata": {
  "kernelspec": {
   "display_name": "Python 3",
   "language": "python",
   "name": "python3"
  },
  "language_info": {
   "codemirror_mode": {
    "name": "ipython",
    "version": 3
   },
   "file_extension": ".py",
   "mimetype": "text/x-python",
   "name": "python",
   "nbconvert_exporter": "python",
   "pygments_lexer": "ipython3",
   "version": "3.7.4"
  }
 },
 "nbformat": 4,
 "nbformat_minor": 4
}
